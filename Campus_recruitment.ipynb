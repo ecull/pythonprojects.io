{
 "cells": [
  {
   "cell_type": "code",
   "execution_count": 84,
   "metadata": {},
   "outputs": [],
   "source": [
    "import pandas as pd\n",
    "import numpy as np\n",
    "import matplotlib.pyplot as plt\n",
    "import seaborn as sns"
   ]
  },
  {
   "cell_type": "code",
   "execution_count": 85,
   "metadata": {},
   "outputs": [],
   "source": [
    "df = pd.read_csv(\n",
    "    \n",
    "    \"C:\\\\Users\\\\ecull\\\\OneDrive\\\\Documents\\\\Campus_recruitment\\\\Placement_Data_Full_Class.csv\")\n"
   ]
  },
  {
   "cell_type": "code",
   "execution_count": 86,
   "metadata": {},
   "outputs": [
    {
     "data": {
      "text/html": [
       "<div>\n",
       "<style scoped>\n",
       "    .dataframe tbody tr th:only-of-type {\n",
       "        vertical-align: middle;\n",
       "    }\n",
       "\n",
       "    .dataframe tbody tr th {\n",
       "        vertical-align: top;\n",
       "    }\n",
       "\n",
       "    .dataframe thead th {\n",
       "        text-align: right;\n",
       "    }\n",
       "</style>\n",
       "<table border=\"1\" class=\"dataframe\">\n",
       "  <thead>\n",
       "    <tr style=\"text-align: right;\">\n",
       "      <th></th>\n",
       "      <th>sl_no</th>\n",
       "      <th>gender</th>\n",
       "      <th>ssc_p</th>\n",
       "      <th>ssc_b</th>\n",
       "      <th>hsc_p</th>\n",
       "      <th>hsc_b</th>\n",
       "      <th>hsc_s</th>\n",
       "      <th>degree_p</th>\n",
       "      <th>degree_t</th>\n",
       "      <th>workex</th>\n",
       "      <th>etest_p</th>\n",
       "      <th>specialisation</th>\n",
       "      <th>mba_p</th>\n",
       "      <th>status</th>\n",
       "      <th>salary</th>\n",
       "    </tr>\n",
       "  </thead>\n",
       "  <tbody>\n",
       "    <tr>\n",
       "      <th>0</th>\n",
       "      <td>1</td>\n",
       "      <td>M</td>\n",
       "      <td>67.00</td>\n",
       "      <td>Others</td>\n",
       "      <td>91.00</td>\n",
       "      <td>Others</td>\n",
       "      <td>Commerce</td>\n",
       "      <td>58.00</td>\n",
       "      <td>Sci&amp;Tech</td>\n",
       "      <td>No</td>\n",
       "      <td>55.0</td>\n",
       "      <td>Mkt&amp;HR</td>\n",
       "      <td>58.80</td>\n",
       "      <td>Placed</td>\n",
       "      <td>270000.0</td>\n",
       "    </tr>\n",
       "    <tr>\n",
       "      <th>1</th>\n",
       "      <td>2</td>\n",
       "      <td>M</td>\n",
       "      <td>79.33</td>\n",
       "      <td>Central</td>\n",
       "      <td>78.33</td>\n",
       "      <td>Others</td>\n",
       "      <td>Science</td>\n",
       "      <td>77.48</td>\n",
       "      <td>Sci&amp;Tech</td>\n",
       "      <td>Yes</td>\n",
       "      <td>86.5</td>\n",
       "      <td>Mkt&amp;Fin</td>\n",
       "      <td>66.28</td>\n",
       "      <td>Placed</td>\n",
       "      <td>200000.0</td>\n",
       "    </tr>\n",
       "    <tr>\n",
       "      <th>2</th>\n",
       "      <td>3</td>\n",
       "      <td>M</td>\n",
       "      <td>65.00</td>\n",
       "      <td>Central</td>\n",
       "      <td>68.00</td>\n",
       "      <td>Central</td>\n",
       "      <td>Arts</td>\n",
       "      <td>64.00</td>\n",
       "      <td>Comm&amp;Mgmt</td>\n",
       "      <td>No</td>\n",
       "      <td>75.0</td>\n",
       "      <td>Mkt&amp;Fin</td>\n",
       "      <td>57.80</td>\n",
       "      <td>Placed</td>\n",
       "      <td>250000.0</td>\n",
       "    </tr>\n",
       "    <tr>\n",
       "      <th>3</th>\n",
       "      <td>4</td>\n",
       "      <td>M</td>\n",
       "      <td>56.00</td>\n",
       "      <td>Central</td>\n",
       "      <td>52.00</td>\n",
       "      <td>Central</td>\n",
       "      <td>Science</td>\n",
       "      <td>52.00</td>\n",
       "      <td>Sci&amp;Tech</td>\n",
       "      <td>No</td>\n",
       "      <td>66.0</td>\n",
       "      <td>Mkt&amp;HR</td>\n",
       "      <td>59.43</td>\n",
       "      <td>Not Placed</td>\n",
       "      <td>NaN</td>\n",
       "    </tr>\n",
       "    <tr>\n",
       "      <th>4</th>\n",
       "      <td>5</td>\n",
       "      <td>M</td>\n",
       "      <td>85.80</td>\n",
       "      <td>Central</td>\n",
       "      <td>73.60</td>\n",
       "      <td>Central</td>\n",
       "      <td>Commerce</td>\n",
       "      <td>73.30</td>\n",
       "      <td>Comm&amp;Mgmt</td>\n",
       "      <td>No</td>\n",
       "      <td>96.8</td>\n",
       "      <td>Mkt&amp;Fin</td>\n",
       "      <td>55.50</td>\n",
       "      <td>Placed</td>\n",
       "      <td>425000.0</td>\n",
       "    </tr>\n",
       "  </tbody>\n",
       "</table>\n",
       "</div>"
      ],
      "text/plain": [
       "   sl_no gender  ssc_p    ssc_b  hsc_p    hsc_b     hsc_s  degree_p  \\\n",
       "0      1      M  67.00   Others  91.00   Others  Commerce     58.00   \n",
       "1      2      M  79.33  Central  78.33   Others   Science     77.48   \n",
       "2      3      M  65.00  Central  68.00  Central      Arts     64.00   \n",
       "3      4      M  56.00  Central  52.00  Central   Science     52.00   \n",
       "4      5      M  85.80  Central  73.60  Central  Commerce     73.30   \n",
       "\n",
       "    degree_t workex  etest_p specialisation  mba_p      status    salary  \n",
       "0   Sci&Tech     No     55.0         Mkt&HR  58.80      Placed  270000.0  \n",
       "1   Sci&Tech    Yes     86.5        Mkt&Fin  66.28      Placed  200000.0  \n",
       "2  Comm&Mgmt     No     75.0        Mkt&Fin  57.80      Placed  250000.0  \n",
       "3   Sci&Tech     No     66.0         Mkt&HR  59.43  Not Placed       NaN  \n",
       "4  Comm&Mgmt     No     96.8        Mkt&Fin  55.50      Placed  425000.0  "
      ]
     },
     "execution_count": 86,
     "metadata": {},
     "output_type": "execute_result"
    }
   ],
   "source": [
    "df.head()"
   ]
  },
  {
   "cell_type": "code",
   "execution_count": 87,
   "metadata": {},
   "outputs": [
    {
     "data": {
      "text/plain": [
       "(215, 15)"
      ]
     },
     "execution_count": 87,
     "metadata": {},
     "output_type": "execute_result"
    }
   ],
   "source": [
    "df.shape"
   ]
  },
  {
   "cell_type": "code",
   "execution_count": 88,
   "metadata": {},
   "outputs": [
    {
     "data": {
      "text/plain": [
       "sl_no               int64\n",
       "gender             object\n",
       "ssc_p             float64\n",
       "ssc_b              object\n",
       "hsc_p             float64\n",
       "hsc_b              object\n",
       "hsc_s              object\n",
       "degree_p          float64\n",
       "degree_t           object\n",
       "workex             object\n",
       "etest_p           float64\n",
       "specialisation     object\n",
       "mba_p             float64\n",
       "status             object\n",
       "salary            float64\n",
       "dtype: object"
      ]
     },
     "execution_count": 88,
     "metadata": {},
     "output_type": "execute_result"
    }
   ],
   "source": [
    "df.dtypes"
   ]
  },
  {
   "cell_type": "code",
   "execution_count": 89,
   "metadata": {},
   "outputs": [
    {
     "data": {
      "text/plain": [
       "sl_no              0\n",
       "gender             0\n",
       "ssc_p              0\n",
       "ssc_b              0\n",
       "hsc_p              0\n",
       "hsc_b              0\n",
       "hsc_s              0\n",
       "degree_p           0\n",
       "degree_t           0\n",
       "workex             0\n",
       "etest_p            0\n",
       "specialisation     0\n",
       "mba_p              0\n",
       "status             0\n",
       "salary            67\n",
       "dtype: int64"
      ]
     },
     "execution_count": 89,
     "metadata": {},
     "output_type": "execute_result"
    }
   ],
   "source": [
    "df.isnull().sum()"
   ]
  },
  {
   "cell_type": "code",
   "execution_count": 90,
   "metadata": {},
   "outputs": [],
   "source": [
    "df.fillna(df['salary'].median(), inplace=True)"
   ]
  },
  {
   "cell_type": "code",
   "execution_count": 91,
   "metadata": {},
   "outputs": [
    {
     "data": {
      "text/html": [
       "<div>\n",
       "<style scoped>\n",
       "    .dataframe tbody tr th:only-of-type {\n",
       "        vertical-align: middle;\n",
       "    }\n",
       "\n",
       "    .dataframe tbody tr th {\n",
       "        vertical-align: top;\n",
       "    }\n",
       "\n",
       "    .dataframe thead th {\n",
       "        text-align: right;\n",
       "    }\n",
       "</style>\n",
       "<table border=\"1\" class=\"dataframe\">\n",
       "  <thead>\n",
       "    <tr style=\"text-align: right;\">\n",
       "      <th></th>\n",
       "      <th>sl_no</th>\n",
       "      <th>ssc_p</th>\n",
       "      <th>hsc_p</th>\n",
       "      <th>degree_p</th>\n",
       "      <th>etest_p</th>\n",
       "      <th>mba_p</th>\n",
       "      <th>salary</th>\n",
       "    </tr>\n",
       "  </thead>\n",
       "  <tbody>\n",
       "    <tr>\n",
       "      <th>count</th>\n",
       "      <td>215.000000</td>\n",
       "      <td>215.000000</td>\n",
       "      <td>215.000000</td>\n",
       "      <td>215.000000</td>\n",
       "      <td>215.000000</td>\n",
       "      <td>215.000000</td>\n",
       "      <td>215.000000</td>\n",
       "    </tr>\n",
       "    <tr>\n",
       "      <th>mean</th>\n",
       "      <td>108.000000</td>\n",
       "      <td>67.303395</td>\n",
       "      <td>66.333163</td>\n",
       "      <td>66.370186</td>\n",
       "      <td>72.100558</td>\n",
       "      <td>62.278186</td>\n",
       "      <td>281283.720930</td>\n",
       "    </tr>\n",
       "    <tr>\n",
       "      <th>std</th>\n",
       "      <td>62.209324</td>\n",
       "      <td>10.827205</td>\n",
       "      <td>10.897509</td>\n",
       "      <td>7.358743</td>\n",
       "      <td>13.275956</td>\n",
       "      <td>5.833385</td>\n",
       "      <td>78232.510303</td>\n",
       "    </tr>\n",
       "    <tr>\n",
       "      <th>min</th>\n",
       "      <td>1.000000</td>\n",
       "      <td>40.890000</td>\n",
       "      <td>37.000000</td>\n",
       "      <td>50.000000</td>\n",
       "      <td>50.000000</td>\n",
       "      <td>51.210000</td>\n",
       "      <td>200000.000000</td>\n",
       "    </tr>\n",
       "    <tr>\n",
       "      <th>25%</th>\n",
       "      <td>54.500000</td>\n",
       "      <td>60.600000</td>\n",
       "      <td>60.900000</td>\n",
       "      <td>61.000000</td>\n",
       "      <td>60.000000</td>\n",
       "      <td>57.945000</td>\n",
       "      <td>250000.000000</td>\n",
       "    </tr>\n",
       "    <tr>\n",
       "      <th>50%</th>\n",
       "      <td>108.000000</td>\n",
       "      <td>67.000000</td>\n",
       "      <td>65.000000</td>\n",
       "      <td>66.000000</td>\n",
       "      <td>71.000000</td>\n",
       "      <td>62.000000</td>\n",
       "      <td>265000.000000</td>\n",
       "    </tr>\n",
       "    <tr>\n",
       "      <th>75%</th>\n",
       "      <td>161.500000</td>\n",
       "      <td>75.700000</td>\n",
       "      <td>73.000000</td>\n",
       "      <td>72.000000</td>\n",
       "      <td>83.500000</td>\n",
       "      <td>66.255000</td>\n",
       "      <td>282500.000000</td>\n",
       "    </tr>\n",
       "    <tr>\n",
       "      <th>max</th>\n",
       "      <td>215.000000</td>\n",
       "      <td>89.400000</td>\n",
       "      <td>97.700000</td>\n",
       "      <td>91.000000</td>\n",
       "      <td>98.000000</td>\n",
       "      <td>77.890000</td>\n",
       "      <td>940000.000000</td>\n",
       "    </tr>\n",
       "  </tbody>\n",
       "</table>\n",
       "</div>"
      ],
      "text/plain": [
       "            sl_no       ssc_p       hsc_p    degree_p     etest_p       mba_p  \\\n",
       "count  215.000000  215.000000  215.000000  215.000000  215.000000  215.000000   \n",
       "mean   108.000000   67.303395   66.333163   66.370186   72.100558   62.278186   \n",
       "std     62.209324   10.827205   10.897509    7.358743   13.275956    5.833385   \n",
       "min      1.000000   40.890000   37.000000   50.000000   50.000000   51.210000   \n",
       "25%     54.500000   60.600000   60.900000   61.000000   60.000000   57.945000   \n",
       "50%    108.000000   67.000000   65.000000   66.000000   71.000000   62.000000   \n",
       "75%    161.500000   75.700000   73.000000   72.000000   83.500000   66.255000   \n",
       "max    215.000000   89.400000   97.700000   91.000000   98.000000   77.890000   \n",
       "\n",
       "              salary  \n",
       "count     215.000000  \n",
       "mean   281283.720930  \n",
       "std     78232.510303  \n",
       "min    200000.000000  \n",
       "25%    250000.000000  \n",
       "50%    265000.000000  \n",
       "75%    282500.000000  \n",
       "max    940000.000000  "
      ]
     },
     "execution_count": 91,
     "metadata": {},
     "output_type": "execute_result"
    }
   ],
   "source": [
    "df.describe()"
   ]
  },
  {
   "cell_type": "code",
   "execution_count": 92,
   "metadata": {},
   "outputs": [
    {
     "data": {
      "text/html": [
       "<div>\n",
       "<style scoped>\n",
       "    .dataframe tbody tr th:only-of-type {\n",
       "        vertical-align: middle;\n",
       "    }\n",
       "\n",
       "    .dataframe tbody tr th {\n",
       "        vertical-align: top;\n",
       "    }\n",
       "\n",
       "    .dataframe thead th {\n",
       "        text-align: right;\n",
       "    }\n",
       "</style>\n",
       "<table border=\"1\" class=\"dataframe\">\n",
       "  <thead>\n",
       "    <tr style=\"text-align: right;\">\n",
       "      <th></th>\n",
       "      <th>unique count</th>\n",
       "    </tr>\n",
       "  </thead>\n",
       "  <tbody>\n",
       "    <tr>\n",
       "      <th>sl_no</th>\n",
       "      <td>215</td>\n",
       "    </tr>\n",
       "    <tr>\n",
       "      <th>gender</th>\n",
       "      <td>2</td>\n",
       "    </tr>\n",
       "    <tr>\n",
       "      <th>ssc_p</th>\n",
       "      <td>103</td>\n",
       "    </tr>\n",
       "    <tr>\n",
       "      <th>ssc_b</th>\n",
       "      <td>2</td>\n",
       "    </tr>\n",
       "    <tr>\n",
       "      <th>hsc_p</th>\n",
       "      <td>97</td>\n",
       "    </tr>\n",
       "    <tr>\n",
       "      <th>hsc_b</th>\n",
       "      <td>2</td>\n",
       "    </tr>\n",
       "    <tr>\n",
       "      <th>hsc_s</th>\n",
       "      <td>3</td>\n",
       "    </tr>\n",
       "    <tr>\n",
       "      <th>degree_p</th>\n",
       "      <td>89</td>\n",
       "    </tr>\n",
       "    <tr>\n",
       "      <th>degree_t</th>\n",
       "      <td>3</td>\n",
       "    </tr>\n",
       "    <tr>\n",
       "      <th>workex</th>\n",
       "      <td>2</td>\n",
       "    </tr>\n",
       "    <tr>\n",
       "      <th>etest_p</th>\n",
       "      <td>100</td>\n",
       "    </tr>\n",
       "    <tr>\n",
       "      <th>specialisation</th>\n",
       "      <td>2</td>\n",
       "    </tr>\n",
       "    <tr>\n",
       "      <th>mba_p</th>\n",
       "      <td>205</td>\n",
       "    </tr>\n",
       "    <tr>\n",
       "      <th>status</th>\n",
       "      <td>2</td>\n",
       "    </tr>\n",
       "    <tr>\n",
       "      <th>salary</th>\n",
       "      <td>45</td>\n",
       "    </tr>\n",
       "  </tbody>\n",
       "</table>\n",
       "</div>"
      ],
      "text/plain": [
       "                unique count\n",
       "sl_no                    215\n",
       "gender                     2\n",
       "ssc_p                    103\n",
       "ssc_b                      2\n",
       "hsc_p                     97\n",
       "hsc_b                      2\n",
       "hsc_s                      3\n",
       "degree_p                  89\n",
       "degree_t                   3\n",
       "workex                     2\n",
       "etest_p                  100\n",
       "specialisation             2\n",
       "mba_p                    205\n",
       "status                     2\n",
       "salary                    45"
      ]
     },
     "execution_count": 92,
     "metadata": {},
     "output_type": "execute_result"
    }
   ],
   "source": [
    "dict = {}\n",
    "for i in list(df.columns):\n",
    "    dict[i] = df[i].value_counts().shape[0]\n",
    "\n",
    "pd.DataFrame(dict,index=[\"unique count\"]).transpose()"
   ]
  },
  {
   "cell_type": "markdown",
   "metadata": {},
   "source": [
    "             Task: Find the difference in salary between male and female"
   ]
  },
  {
   "cell_type": "code",
   "execution_count": 93,
   "metadata": {},
   "outputs": [
    {
     "data": {
      "text/html": [
       "<style type=\"text/css\">\n",
       "</style>\n",
       "<table id=\"T_fb21e\">\n",
       "  <thead>\n",
       "    <tr>\n",
       "      <th class=\"blank level0\" >&nbsp;</th>\n",
       "      <th id=\"T_fb21e_level0_col0\" class=\"col_heading level0 col0\" >salary</th>\n",
       "    </tr>\n",
       "    <tr>\n",
       "      <th class=\"index_name level0\" >gender</th>\n",
       "      <th class=\"blank col0\" >&nbsp;</th>\n",
       "    </tr>\n",
       "  </thead>\n",
       "  <tbody>\n",
       "    <tr>\n",
       "      <th id=\"T_fb21e_level0_row0\" class=\"row_heading level0 row0\" >M</th>\n",
       "      <td id=\"T_fb21e_row0_col0\" class=\"data row0 col0\" >289,395.68</td>\n",
       "    </tr>\n",
       "    <tr>\n",
       "      <th id=\"T_fb21e_level0_row1\" class=\"row_heading level0 row1\" >F</th>\n",
       "      <td id=\"T_fb21e_row1_col0\" class=\"data row1 col0\" >266,447.37</td>\n",
       "    </tr>\n",
       "  </tbody>\n",
       "</table>\n"
      ],
      "text/plain": [
       "<pandas.io.formats.style.Styler at 0x1cb4002a2e0>"
      ]
     },
     "execution_count": 93,
     "metadata": {},
     "output_type": "execute_result"
    }
   ],
   "source": [
    "df[['gender', 'salary']].groupby(['gender']).mean().round(2).sort_values(by='salary', ascending=False).style.format(('{0:,.2f}'))"
   ]
  },
  {
   "cell_type": "code",
   "execution_count": 94,
   "metadata": {},
   "outputs": [
    {
     "data": {
      "image/png": "[encoded data removed]",
      "text/plain": [
       "<Figure size 576x576 with 1 Axes>"
      ]
     },
     "metadata": {
      "needs_background": "dark"
     },
     "output_type": "display_data"
    }
   ],
   "source": [
    "plt.figure(figsize=(8,8))\n",
    "\n",
    "sns.barplot(data=df, x='gender', y='salary', palette = 'Oranges', edgecolor='black',**{'hatch':'/','linewidth':2})\n",
    "\n",
    "plt.xticks(color='w')\n",
    "plt.yticks(color='w')\n",
    "\n",
    "#for p in ax.patches:\n",
    "  # ax.annotate('{0:,.2f}'.format(p.get_height()+0.1), (p.get_x(), p.get_height()+0.01))\n",
    "\n",
    "plt.xlabel(\"Gender\", color='w')\n",
    "plt.ylabel(\"Salary\", color='w')\n",
    "\n",
    "plt.title(\"Difference in mean salary between male and female\", color='w')\n",
    "\n",
    "plt.show()"
   ]
  },
  {
   "cell_type": "markdown",
   "metadata": {},
   "source": [
    "         Task: Find what degree in degree_t has the highest salary"
   ]
  },
  {
   "cell_type": "code",
   "execution_count": 95,
   "metadata": {},
   "outputs": [
    {
     "data": {
      "text/html": [
       "<style type=\"text/css\">\n",
       "</style>\n",
       "<table id=\"T_188f1\">\n",
       "  <thead>\n",
       "    <tr>\n",
       "      <th class=\"blank level0\" >&nbsp;</th>\n",
       "      <th id=\"T_188f1_level0_col0\" class=\"col_heading level0 col0\" >salary</th>\n",
       "    </tr>\n",
       "    <tr>\n",
       "      <th class=\"index_name level0\" >degree_t</th>\n",
       "      <th class=\"blank col0\" >&nbsp;</th>\n",
       "    </tr>\n",
       "  </thead>\n",
       "  <tbody>\n",
       "    <tr>\n",
       "      <th id=\"T_188f1_level0_row0\" class=\"row_heading level0 row0\" >Sci&Tech</th>\n",
       "      <td id=\"T_188f1_row0_col0\" class=\"data row0 col0\" >299,474.58</td>\n",
       "    </tr>\n",
       "    <tr>\n",
       "      <th id=\"T_188f1_level0_row1\" class=\"row_heading level0 row1\" >Comm&Mgmt</th>\n",
       "      <td id=\"T_188f1_row1_col0\" class=\"data row1 col0\" >274,586.21</td>\n",
       "    </tr>\n",
       "    <tr>\n",
       "      <th id=\"T_188f1_level0_row2\" class=\"row_heading level0 row2\" >Others</th>\n",
       "      <td id=\"T_188f1_row2_col0\" class=\"data row2 col0\" >272,000.00</td>\n",
       "    </tr>\n",
       "  </tbody>\n",
       "</table>\n"
      ],
      "text/plain": [
       "<pandas.io.formats.style.Styler at 0x1cb4001f790>"
      ]
     },
     "execution_count": 95,
     "metadata": {},
     "output_type": "execute_result"
    }
   ],
   "source": [
    "df[['degree_t', 'salary']].groupby(['degree_t']).mean().round(2).sort_values(by='salary', ascending=False).style.format(('{0:,.2f}'))"
   ]
  },
  {
   "cell_type": "code",
   "execution_count": 96,
   "metadata": {},
   "outputs": [
    {
     "data": {
      "image/png": "[encoded data removed]",
      "text/plain": [
       "<Figure size 576x576 with 1 Axes>"
      ]
     },
     "metadata": {
      "needs_background": "dark"
     },
     "output_type": "display_data"
    }
   ],
   "source": [
    "plt.figure(figsize=(8,8))\n",
    "\n",
    "sns.barplot(data=df, x='degree_t', y='salary', palette = 'Oranges', edgecolor='black',**{'hatch':'/','linewidth':2})\n",
    "\n",
    "plt.xticks(color='w')\n",
    "plt.yticks(color='w')\n",
    "\n",
    "plt.xlabel(\"Degree\", color='w')\n",
    "plt.ylabel(\"Salary\", color='w')\n",
    "\n",
    "plt.title(\"Barplot showing the degree_t with the highest salary\", color='w')\n",
    "\n",
    "plt.show()"
   ]
  },
  {
   "cell_type": "markdown",
   "metadata": {},
   "source": [
    "        Task: Find what hsc degree has the highest salary"
   ]
  },
  {
   "cell_type": "code",
   "execution_count": 97,
   "metadata": {},
   "outputs": [
    {
     "data": {
      "text/html": [
       "<div>\n",
       "<style scoped>\n",
       "    .dataframe tbody tr th:only-of-type {\n",
       "        vertical-align: middle;\n",
       "    }\n",
       "\n",
       "    .dataframe tbody tr th {\n",
       "        vertical-align: top;\n",
       "    }\n",
       "\n",
       "    .dataframe thead th {\n",
       "        text-align: right;\n",
       "    }\n",
       "</style>\n",
       "<table border=\"1\" class=\"dataframe\">\n",
       "  <thead>\n",
       "    <tr style=\"text-align: right;\">\n",
       "      <th></th>\n",
       "      <th>sl_no</th>\n",
       "      <th>gender</th>\n",
       "      <th>ssc_p</th>\n",
       "      <th>ssc_b</th>\n",
       "      <th>hsc_p</th>\n",
       "      <th>hsc_b</th>\n",
       "      <th>hsc_s</th>\n",
       "      <th>degree_p</th>\n",
       "      <th>degree_t</th>\n",
       "      <th>workex</th>\n",
       "      <th>etest_p</th>\n",
       "      <th>specialisation</th>\n",
       "      <th>mba_p</th>\n",
       "      <th>status</th>\n",
       "      <th>salary</th>\n",
       "    </tr>\n",
       "  </thead>\n",
       "  <tbody>\n",
       "    <tr>\n",
       "      <th>0</th>\n",
       "      <td>1</td>\n",
       "      <td>M</td>\n",
       "      <td>67.00</td>\n",
       "      <td>Others</td>\n",
       "      <td>91.00</td>\n",
       "      <td>Others</td>\n",
       "      <td>Commerce</td>\n",
       "      <td>58.00</td>\n",
       "      <td>Sci&amp;Tech</td>\n",
       "      <td>No</td>\n",
       "      <td>55.0</td>\n",
       "      <td>Mkt&amp;HR</td>\n",
       "      <td>58.80</td>\n",
       "      <td>Placed</td>\n",
       "      <td>270000.0</td>\n",
       "    </tr>\n",
       "    <tr>\n",
       "      <th>1</th>\n",
       "      <td>2</td>\n",
       "      <td>M</td>\n",
       "      <td>79.33</td>\n",
       "      <td>Central</td>\n",
       "      <td>78.33</td>\n",
       "      <td>Others</td>\n",
       "      <td>Science</td>\n",
       "      <td>77.48</td>\n",
       "      <td>Sci&amp;Tech</td>\n",
       "      <td>Yes</td>\n",
       "      <td>86.5</td>\n",
       "      <td>Mkt&amp;Fin</td>\n",
       "      <td>66.28</td>\n",
       "      <td>Placed</td>\n",
       "      <td>200000.0</td>\n",
       "    </tr>\n",
       "    <tr>\n",
       "      <th>2</th>\n",
       "      <td>3</td>\n",
       "      <td>M</td>\n",
       "      <td>65.00</td>\n",
       "      <td>Central</td>\n",
       "      <td>68.00</td>\n",
       "      <td>Central</td>\n",
       "      <td>Arts</td>\n",
       "      <td>64.00</td>\n",
       "      <td>Comm&amp;Mgmt</td>\n",
       "      <td>No</td>\n",
       "      <td>75.0</td>\n",
       "      <td>Mkt&amp;Fin</td>\n",
       "      <td>57.80</td>\n",
       "      <td>Placed</td>\n",
       "      <td>250000.0</td>\n",
       "    </tr>\n",
       "    <tr>\n",
       "      <th>3</th>\n",
       "      <td>4</td>\n",
       "      <td>M</td>\n",
       "      <td>56.00</td>\n",
       "      <td>Central</td>\n",
       "      <td>52.00</td>\n",
       "      <td>Central</td>\n",
       "      <td>Science</td>\n",
       "      <td>52.00</td>\n",
       "      <td>Sci&amp;Tech</td>\n",
       "      <td>No</td>\n",
       "      <td>66.0</td>\n",
       "      <td>Mkt&amp;HR</td>\n",
       "      <td>59.43</td>\n",
       "      <td>Not Placed</td>\n",
       "      <td>265000.0</td>\n",
       "    </tr>\n",
       "    <tr>\n",
       "      <th>4</th>\n",
       "      <td>5</td>\n",
       "      <td>M</td>\n",
       "      <td>85.80</td>\n",
       "      <td>Central</td>\n",
       "      <td>73.60</td>\n",
       "      <td>Central</td>\n",
       "      <td>Commerce</td>\n",
       "      <td>73.30</td>\n",
       "      <td>Comm&amp;Mgmt</td>\n",
       "      <td>No</td>\n",
       "      <td>96.8</td>\n",
       "      <td>Mkt&amp;Fin</td>\n",
       "      <td>55.50</td>\n",
       "      <td>Placed</td>\n",
       "      <td>425000.0</td>\n",
       "    </tr>\n",
       "  </tbody>\n",
       "</table>\n",
       "</div>"
      ],
      "text/plain": [
       "   sl_no gender  ssc_p    ssc_b  hsc_p    hsc_b     hsc_s  degree_p  \\\n",
       "0      1      M  67.00   Others  91.00   Others  Commerce     58.00   \n",
       "1      2      M  79.33  Central  78.33   Others   Science     77.48   \n",
       "2      3      M  65.00  Central  68.00  Central      Arts     64.00   \n",
       "3      4      M  56.00  Central  52.00  Central   Science     52.00   \n",
       "4      5      M  85.80  Central  73.60  Central  Commerce     73.30   \n",
       "\n",
       "    degree_t workex  etest_p specialisation  mba_p      status    salary  \n",
       "0   Sci&Tech     No     55.0         Mkt&HR  58.80      Placed  270000.0  \n",
       "1   Sci&Tech    Yes     86.5        Mkt&Fin  66.28      Placed  200000.0  \n",
       "2  Comm&Mgmt     No     75.0        Mkt&Fin  57.80      Placed  250000.0  \n",
       "3   Sci&Tech     No     66.0         Mkt&HR  59.43  Not Placed  265000.0  \n",
       "4  Comm&Mgmt     No     96.8        Mkt&Fin  55.50      Placed  425000.0  "
      ]
     },
     "execution_count": 97,
     "metadata": {},
     "output_type": "execute_result"
    }
   ],
   "source": [
    "df.head()"
   ]
  },
  {
   "cell_type": "code",
   "execution_count": 98,
   "metadata": {},
   "outputs": [
    {
     "data": {
      "text/html": [
       "<style type=\"text/css\">\n",
       "</style>\n",
       "<table id=\"T_a8768\">\n",
       "  <thead>\n",
       "    <tr>\n",
       "      <th class=\"blank level0\" >&nbsp;</th>\n",
       "      <th id=\"T_a8768_level0_col0\" class=\"col_heading level0 col0\" >salary</th>\n",
       "    </tr>\n",
       "    <tr>\n",
       "      <th class=\"index_name level0\" >hsc_s</th>\n",
       "      <th class=\"blank col0\" >&nbsp;</th>\n",
       "    </tr>\n",
       "  </thead>\n",
       "  <tbody>\n",
       "    <tr>\n",
       "      <th id=\"T_a8768_level0_row0\" class=\"row_heading level0 row0\" >Science</th>\n",
       "      <td id=\"T_a8768_row0_col0\" class=\"data row0 col0\" >285,087.91</td>\n",
       "    </tr>\n",
       "    <tr>\n",
       "      <th id=\"T_a8768_level0_row1\" class=\"row_heading level0 row1\" >Commerce</th>\n",
       "      <td id=\"T_a8768_row1_col0\" class=\"data row1 col0\" >280,672.57</td>\n",
       "    </tr>\n",
       "    <tr>\n",
       "      <th id=\"T_a8768_level0_row2\" class=\"row_heading level0 row2\" >Arts</th>\n",
       "      <td id=\"T_a8768_row2_col0\" class=\"data row2 col0\" >256,090.91</td>\n",
       "    </tr>\n",
       "  </tbody>\n",
       "</table>\n"
      ],
      "text/plain": [
       "<pandas.io.formats.style.Styler at 0x1cb40bf3700>"
      ]
     },
     "execution_count": 98,
     "metadata": {},
     "output_type": "execute_result"
    }
   ],
   "source": [
    "df[['hsc_s', 'salary']].groupby(['hsc_s']).mean().round(2).sort_values(by='salary', ascending=False).style.format('{0:,.2f}')"
   ]
  },
  {
   "cell_type": "code",
   "execution_count": 99,
   "metadata": {},
   "outputs": [
    {
     "data": {
      "image/png": "[encoded data removed]",
      "text/plain": [
       "<Figure size 576x576 with 1 Axes>"
      ]
     },
     "metadata": {
      "needs_background": "dark"
     },
     "output_type": "display_data"
    }
   ],
   "source": [
    "plt.figure(figsize=(8,8))\n",
    "\n",
    "sns.barplot(data=df, x='hsc_s', y='salary', palette = 'Oranges', edgecolor='black',**{'hatch':'/','linewidth':2})\n",
    "\n",
    "plt.xticks(color='w')\n",
    "plt.yticks(color='w')\n",
    "\n",
    "plt.xlabel(\"Degree\", color='w')\n",
    "plt.ylabel(\"Salary\", color='w')\n",
    "\n",
    "plt.title(\"Barplot showing the hsc_s degree with the highest salary\", color='w')\n",
    "\n",
    "plt.show()"
   ]
  },
  {
   "cell_type": "markdown",
   "metadata": {},
   "source": [
    "                 Find what specialisation has the highest salary"
   ]
  },
  {
   "cell_type": "code",
   "execution_count": 100,
   "metadata": {},
   "outputs": [
    {
     "data": {
      "text/html": [
       "<style type=\"text/css\">\n",
       "</style>\n",
       "<table id=\"T_a0b2b\">\n",
       "  <thead>\n",
       "    <tr>\n",
       "      <th class=\"blank level0\" >&nbsp;</th>\n",
       "      <th id=\"T_a0b2b_level0_col0\" class=\"col_heading level0 col0\" >salary</th>\n",
       "    </tr>\n",
       "    <tr>\n",
       "      <th class=\"index_name level0\" >specialisation</th>\n",
       "      <th class=\"blank col0\" >&nbsp;</th>\n",
       "    </tr>\n",
       "  </thead>\n",
       "  <tbody>\n",
       "    <tr>\n",
       "      <th id=\"T_a0b2b_level0_row0\" class=\"row_heading level0 row0\" >Mkt&Fin</th>\n",
       "      <td id=\"T_a0b2b_row0_col0\" class=\"data row0 col0\" >291,800.00</td>\n",
       "    </tr>\n",
       "    <tr>\n",
       "      <th id=\"T_a0b2b_level0_row1\" class=\"row_heading level0 row1\" >Mkt&HR</th>\n",
       "      <td id=\"T_a0b2b_row1_col0\" class=\"data row1 col0\" >268,000.00</td>\n",
       "    </tr>\n",
       "  </tbody>\n",
       "</table>\n"
      ],
      "text/plain": [
       "<pandas.io.formats.style.Styler at 0x1cb40e7f6a0>"
      ]
     },
     "execution_count": 100,
     "metadata": {},
     "output_type": "execute_result"
    }
   ],
   "source": [
    "df[['specialisation', 'salary']].groupby(['specialisation']).mean().round(2).sort_values(by='salary', ascending=False).style.format('{0:,.2f}')"
   ]
  },
  {
   "cell_type": "code",
   "execution_count": 101,
   "metadata": {},
   "outputs": [
    {
     "data": {
      "image/png": "[encoded data removed]",
      "text/plain": [
       "<Figure size 576x576 with 1 Axes>"
      ]
     },
     "metadata": {
      "needs_background": "dark"
     },
     "output_type": "display_data"
    }
   ],
   "source": [
    "plt.figure(figsize=(8,8))\n",
    "\n",
    "sns.barplot(data=df, x='specialisation', y='salary', palette = 'Oranges', edgecolor='black',**{'hatch':'/','linewidth':2})\n",
    "\n",
    "plt.xticks(color='w')\n",
    "plt.yticks(color='w')\n",
    "\n",
    "plt.xlabel(\"Specialisation\", color='w')\n",
    "plt.ylabel(\"Salary\", color='w')\n",
    "\n",
    "plt.title(\"Barplot showing the specialisation with the highest salary\", color='w')\n",
    "\n",
    "plt.show()"
   ]
  },
  {
   "cell_type": "markdown",
   "metadata": {},
   "source": [
    "          Find overall students placed/not placed"
   ]
  },
  {
   "cell_type": "code",
   "execution_count": 102,
   "metadata": {},
   "outputs": [
    {
     "data": {
      "text/html": [
       "<div>\n",
       "<style scoped>\n",
       "    .dataframe tbody tr th:only-of-type {\n",
       "        vertical-align: middle;\n",
       "    }\n",
       "\n",
       "    .dataframe tbody tr th {\n",
       "        vertical-align: top;\n",
       "    }\n",
       "\n",
       "    .dataframe thead th {\n",
       "        text-align: right;\n",
       "    }\n",
       "</style>\n",
       "<table border=\"1\" class=\"dataframe\">\n",
       "  <thead>\n",
       "    <tr style=\"text-align: right;\">\n",
       "      <th></th>\n",
       "      <th>Count</th>\n",
       "    </tr>\n",
       "  </thead>\n",
       "  <tbody>\n",
       "    <tr>\n",
       "      <th>Placed</th>\n",
       "      <td>148</td>\n",
       "    </tr>\n",
       "    <tr>\n",
       "      <th>Not Placed</th>\n",
       "      <td>67</td>\n",
       "    </tr>\n",
       "  </tbody>\n",
       "</table>\n",
       "</div>"
      ],
      "text/plain": [
       "            Count\n",
       "Placed        148\n",
       "Not Placed     67"
      ]
     },
     "execution_count": 102,
     "metadata": {},
     "output_type": "execute_result"
    }
   ],
   "source": [
    "df['status'].value_counts().to_frame('Count')"
   ]
  },
  {
   "cell_type": "code",
   "execution_count": 103,
   "metadata": {},
   "outputs": [
    {
     "data": {
      "image/png": "[encoded data removed]",
      "text/plain": [
       "<Figure size 576x576 with 1 Axes>"
      ]
     },
     "metadata": {
      "needs_background": "dark"
     },
     "output_type": "display_data"
    }
   ],
   "source": [
    "plt.figure(figsize=(8,8))\n",
    "\n",
    "sns.countplot(data=df, x='status', palette = 'Oranges', edgecolor='black',**{'hatch':'/','linewidth':2})\n",
    "\n",
    "plt.title(\"Count of those placed/not placed\", color='w')\n",
    "plt.ylabel('Count', color='w')\n",
    "plt.xlabel(\"Status\", color='w')\n",
    "plt.xticks(color='w')\n",
    "plt.yticks(color='w')\n",
    "plt.show()"
   ]
  },
  {
   "cell_type": "markdown",
   "metadata": {},
   "source": [
    "           Task: Analysis of Placed/not placed students"
   ]
  },
  {
   "cell_type": "code",
   "execution_count": 104,
   "metadata": {},
   "outputs": [
    {
     "data": {
      "text/html": [
       "<div>\n",
       "<style scoped>\n",
       "    .dataframe tbody tr th:only-of-type {\n",
       "        vertical-align: middle;\n",
       "    }\n",
       "\n",
       "    .dataframe tbody tr th {\n",
       "        vertical-align: top;\n",
       "    }\n",
       "\n",
       "    .dataframe thead th {\n",
       "        text-align: right;\n",
       "    }\n",
       "</style>\n",
       "<table border=\"1\" class=\"dataframe\">\n",
       "  <thead>\n",
       "    <tr style=\"text-align: right;\">\n",
       "      <th></th>\n",
       "      <th></th>\n",
       "      <th>Count</th>\n",
       "    </tr>\n",
       "    <tr>\n",
       "      <th>specialisation</th>\n",
       "      <th>status</th>\n",
       "      <th></th>\n",
       "    </tr>\n",
       "  </thead>\n",
       "  <tbody>\n",
       "    <tr>\n",
       "      <th rowspan=\"2\" valign=\"top\">Mkt&amp;Fin</th>\n",
       "      <th>Placed</th>\n",
       "      <td>95</td>\n",
       "    </tr>\n",
       "    <tr>\n",
       "      <th>Not Placed</th>\n",
       "      <td>25</td>\n",
       "    </tr>\n",
       "    <tr>\n",
       "      <th rowspan=\"2\" valign=\"top\">Mkt&amp;HR</th>\n",
       "      <th>Placed</th>\n",
       "      <td>53</td>\n",
       "    </tr>\n",
       "    <tr>\n",
       "      <th>Not Placed</th>\n",
       "      <td>42</td>\n",
       "    </tr>\n",
       "  </tbody>\n",
       "</table>\n",
       "</div>"
      ],
      "text/plain": [
       "                           Count\n",
       "specialisation status           \n",
       "Mkt&Fin        Placed         95\n",
       "               Not Placed     25\n",
       "Mkt&HR         Placed         53\n",
       "               Not Placed     42"
      ]
     },
     "execution_count": 104,
     "metadata": {},
     "output_type": "execute_result"
    }
   ],
   "source": [
    "df[['specialisation', 'status']].groupby(['specialisation']).value_counts().to_frame('Count')"
   ]
  },
  {
   "cell_type": "code",
   "execution_count": 105,
   "metadata": {},
   "outputs": [
    {
     "data": {
      "image/png": "[encoded data removed]",
      "text/plain": [
       "<Figure size 576x576 with 1 Axes>"
      ]
     },
     "metadata": {
      "needs_background": "dark"
     },
     "output_type": "display_data"
    }
   ],
   "source": [
    "plt.figure(figsize=(8,8))\n",
    "\n",
    "sns.countplot(data=df, x='specialisation', hue='status',palette = 'Oranges', edgecolor='black',**{'hatch':'/','linewidth':2})\n",
    "\n",
    "plt.xticks(color='w')\n",
    "plt.yticks(color='w')\n",
    "\n",
    "plt.xlabel(\"Specialisation\", color='w')\n",
    "plt.ylabel(\"count_status\", color='w')\n",
    "\n",
    "plt.title(\"Barplot showing which specialisation was most placed\", color='w')\n",
    "\n",
    "plt.show()"
   ]
  },
  {
   "cell_type": "code",
   "execution_count": 106,
   "metadata": {},
   "outputs": [
    {
     "data": {
      "text/html": [
       "<div>\n",
       "<style scoped>\n",
       "    .dataframe tbody tr th:only-of-type {\n",
       "        vertical-align: middle;\n",
       "    }\n",
       "\n",
       "    .dataframe tbody tr th {\n",
       "        vertical-align: top;\n",
       "    }\n",
       "\n",
       "    .dataframe thead th {\n",
       "        text-align: right;\n",
       "    }\n",
       "</style>\n",
       "<table border=\"1\" class=\"dataframe\">\n",
       "  <thead>\n",
       "    <tr style=\"text-align: right;\">\n",
       "      <th></th>\n",
       "      <th></th>\n",
       "      <th>Count</th>\n",
       "    </tr>\n",
       "    <tr>\n",
       "      <th>gender</th>\n",
       "      <th>status</th>\n",
       "      <th></th>\n",
       "    </tr>\n",
       "  </thead>\n",
       "  <tbody>\n",
       "    <tr>\n",
       "      <th rowspan=\"2\" valign=\"top\">F</th>\n",
       "      <th>Placed</th>\n",
       "      <td>48</td>\n",
       "    </tr>\n",
       "    <tr>\n",
       "      <th>Not Placed</th>\n",
       "      <td>28</td>\n",
       "    </tr>\n",
       "    <tr>\n",
       "      <th rowspan=\"2\" valign=\"top\">M</th>\n",
       "      <th>Placed</th>\n",
       "      <td>100</td>\n",
       "    </tr>\n",
       "    <tr>\n",
       "      <th>Not Placed</th>\n",
       "      <td>39</td>\n",
       "    </tr>\n",
       "  </tbody>\n",
       "</table>\n",
       "</div>"
      ],
      "text/plain": [
       "                   Count\n",
       "gender status           \n",
       "F      Placed         48\n",
       "       Not Placed     28\n",
       "M      Placed        100\n",
       "       Not Placed     39"
      ]
     },
     "execution_count": 106,
     "metadata": {},
     "output_type": "execute_result"
    }
   ],
   "source": [
    "df[['gender', 'status']].groupby(['gender']).value_counts().to_frame('Count')"
   ]
  },
  {
   "cell_type": "code",
   "execution_count": 107,
   "metadata": {},
   "outputs": [
    {
     "data": {
      "image/png": "[encoded data removed]",
      "text/plain": [
       "<Figure size 576x576 with 1 Axes>"
      ]
     },
     "metadata": {
      "needs_background": "dark"
     },
     "output_type": "display_data"
    }
   ],
   "source": [
    "plt.figure(figsize=(8,8))\n",
    "\n",
    "sns.countplot(data=df, x='gender',palette = 'Oranges', hue='status',edgecolor='black',**{'hatch':'/','linewidth':2})\n",
    "\n",
    "plt.xticks(color='w')\n",
    "plt.yticks(color='w')\n",
    "\n",
    "plt.xlabel(\"Gender\", color='w')\n",
    "plt.ylabel(\"count_status\", color='w')\n",
    "\n",
    "plt.title(\"Barplot showing which gender was most placed\", color='w')\n",
    "\n",
    "\n",
    "plt.show()"
   ]
  },
  {
   "cell_type": "code",
   "execution_count": 108,
   "metadata": {},
   "outputs": [
    {
     "data": {
      "text/html": [
       "<div>\n",
       "<style scoped>\n",
       "    .dataframe tbody tr th:only-of-type {\n",
       "        vertical-align: middle;\n",
       "    }\n",
       "\n",
       "    .dataframe tbody tr th {\n",
       "        vertical-align: top;\n",
       "    }\n",
       "\n",
       "    .dataframe thead th {\n",
       "        text-align: right;\n",
       "    }\n",
       "</style>\n",
       "<table border=\"1\" class=\"dataframe\">\n",
       "  <thead>\n",
       "    <tr style=\"text-align: right;\">\n",
       "      <th></th>\n",
       "      <th></th>\n",
       "      <th>Count</th>\n",
       "    </tr>\n",
       "    <tr>\n",
       "      <th>degree_t</th>\n",
       "      <th>status</th>\n",
       "      <th></th>\n",
       "    </tr>\n",
       "  </thead>\n",
       "  <tbody>\n",
       "    <tr>\n",
       "      <th rowspan=\"2\" valign=\"top\">Comm&amp;Mgmt</th>\n",
       "      <th>Placed</th>\n",
       "      <td>102</td>\n",
       "    </tr>\n",
       "    <tr>\n",
       "      <th>Not Placed</th>\n",
       "      <td>43</td>\n",
       "    </tr>\n",
       "    <tr>\n",
       "      <th rowspan=\"2\" valign=\"top\">Others</th>\n",
       "      <th>Not Placed</th>\n",
       "      <td>6</td>\n",
       "    </tr>\n",
       "    <tr>\n",
       "      <th>Placed</th>\n",
       "      <td>5</td>\n",
       "    </tr>\n",
       "    <tr>\n",
       "      <th rowspan=\"2\" valign=\"top\">Sci&amp;Tech</th>\n",
       "      <th>Placed</th>\n",
       "      <td>41</td>\n",
       "    </tr>\n",
       "    <tr>\n",
       "      <th>Not Placed</th>\n",
       "      <td>18</td>\n",
       "    </tr>\n",
       "  </tbody>\n",
       "</table>\n",
       "</div>"
      ],
      "text/plain": [
       "                      Count\n",
       "degree_t  status           \n",
       "Comm&Mgmt Placed        102\n",
       "          Not Placed     43\n",
       "Others    Not Placed      6\n",
       "          Placed          5\n",
       "Sci&Tech  Placed         41\n",
       "          Not Placed     18"
      ]
     },
     "execution_count": 108,
     "metadata": {},
     "output_type": "execute_result"
    }
   ],
   "source": [
    "df[['degree_t', 'status']].groupby('degree_t').value_counts().to_frame('Count')"
   ]
  },
  {
   "cell_type": "code",
   "execution_count": 109,
   "metadata": {},
   "outputs": [
    {
     "data": {
      "image/png": "[encoded data removed]",
      "text/plain": [
       "<Figure size 576x576 with 1 Axes>"
      ]
     },
     "metadata": {
      "needs_background": "dark"
     },
     "output_type": "display_data"
    }
   ],
   "source": [
    "plt.figure(figsize=(8,8))\n",
    "\n",
    "sns.countplot( data=df, x='degree_t',palette = 'Oranges',hue='status',edgecolor='black',**{'hatch':'/','linewidth':2})\n",
    "\n",
    "plt.xticks(color='w')\n",
    "plt.yticks(color='w')\n",
    "\n",
    "plt.xlabel(\"degree_t\", color='w')\n",
    "plt.ylabel(\"count_status\", color='w')\n",
    "\n",
    "plt.title(\"Barplot showing which degree_t was most placed\", color='w')\n",
    "\n",
    "plt.show()"
   ]
  },
  {
   "cell_type": "code",
   "execution_count": 110,
   "metadata": {},
   "outputs": [
    {
     "data": {
      "text/html": [
       "<div>\n",
       "<style scoped>\n",
       "    .dataframe tbody tr th:only-of-type {\n",
       "        vertical-align: middle;\n",
       "    }\n",
       "\n",
       "    .dataframe tbody tr th {\n",
       "        vertical-align: top;\n",
       "    }\n",
       "\n",
       "    .dataframe thead th {\n",
       "        text-align: right;\n",
       "    }\n",
       "</style>\n",
       "<table border=\"1\" class=\"dataframe\">\n",
       "  <thead>\n",
       "    <tr style=\"text-align: right;\">\n",
       "      <th></th>\n",
       "      <th></th>\n",
       "      <th>Count</th>\n",
       "    </tr>\n",
       "    <tr>\n",
       "      <th>hsc_s</th>\n",
       "      <th>status</th>\n",
       "      <th></th>\n",
       "    </tr>\n",
       "  </thead>\n",
       "  <tbody>\n",
       "    <tr>\n",
       "      <th rowspan=\"2\" valign=\"top\">Arts</th>\n",
       "      <th>Placed</th>\n",
       "      <td>6</td>\n",
       "    </tr>\n",
       "    <tr>\n",
       "      <th>Not Placed</th>\n",
       "      <td>5</td>\n",
       "    </tr>\n",
       "    <tr>\n",
       "      <th rowspan=\"2\" valign=\"top\">Commerce</th>\n",
       "      <th>Placed</th>\n",
       "      <td>79</td>\n",
       "    </tr>\n",
       "    <tr>\n",
       "      <th>Not Placed</th>\n",
       "      <td>34</td>\n",
       "    </tr>\n",
       "    <tr>\n",
       "      <th rowspan=\"2\" valign=\"top\">Science</th>\n",
       "      <th>Placed</th>\n",
       "      <td>63</td>\n",
       "    </tr>\n",
       "    <tr>\n",
       "      <th>Not Placed</th>\n",
       "      <td>28</td>\n",
       "    </tr>\n",
       "  </tbody>\n",
       "</table>\n",
       "</div>"
      ],
      "text/plain": [
       "                     Count\n",
       "hsc_s    status           \n",
       "Arts     Placed          6\n",
       "         Not Placed      5\n",
       "Commerce Placed         79\n",
       "         Not Placed     34\n",
       "Science  Placed         63\n",
       "         Not Placed     28"
      ]
     },
     "execution_count": 110,
     "metadata": {},
     "output_type": "execute_result"
    }
   ],
   "source": [
    "df[['hsc_s', 'status']].groupby('hsc_s').value_counts().to_frame('Count')"
   ]
  },
  {
   "cell_type": "code",
   "execution_count": 111,
   "metadata": {},
   "outputs": [
    {
     "data": {
      "image/png": "[encoded data removed]",
      "text/plain": [
       "<Figure size 576x576 with 1 Axes>"
      ]
     },
     "metadata": {
      "needs_background": "dark"
     },
     "output_type": "display_data"
    }
   ],
   "source": [
    "plt.figure(figsize=(8,8))\n",
    "\n",
    "sns.countplot(data=df, x='hsc_s',palette = 'Oranges',hue='status',edgecolor='black',**{'hatch':'/','linewidth':2})\n",
    "\n",
    "plt.xticks(color='w')\n",
    "plt.yticks(color='w')\n",
    "\n",
    "plt.xlabel(\"hsc_s\", color='w')\n",
    "plt.ylabel(\"count_status\", color='w')\n",
    "\n",
    "plt.title(\"Barplot showing which hsc_s was most placed\", color='w')\n",
    "\n",
    "plt.show()"
   ]
  },
  {
   "cell_type": "markdown",
   "metadata": {},
   "source": [
    "          Task: Does overall percentage matters for one to get placed?"
   ]
  },
  {
   "cell_type": "code",
   "execution_count": 112,
   "metadata": {},
   "outputs": [
    {
     "data": {
      "text/html": [
       "<div>\n",
       "<style scoped>\n",
       "    .dataframe tbody tr th:only-of-type {\n",
       "        vertical-align: middle;\n",
       "    }\n",
       "\n",
       "    .dataframe tbody tr th {\n",
       "        vertical-align: top;\n",
       "    }\n",
       "\n",
       "    .dataframe thead th {\n",
       "        text-align: right;\n",
       "    }\n",
       "</style>\n",
       "<table border=\"1\" class=\"dataframe\">\n",
       "  <thead>\n",
       "    <tr style=\"text-align: right;\">\n",
       "      <th></th>\n",
       "      <th>ssc_p</th>\n",
       "      <th>hsc_p</th>\n",
       "      <th>degree_p</th>\n",
       "      <th>etest_p</th>\n",
       "      <th>mba_p</th>\n",
       "      <th>status</th>\n",
       "    </tr>\n",
       "  </thead>\n",
       "  <tbody>\n",
       "    <tr>\n",
       "      <th>0</th>\n",
       "      <td>67.00</td>\n",
       "      <td>91.00</td>\n",
       "      <td>58.00</td>\n",
       "      <td>55.0</td>\n",
       "      <td>58.80</td>\n",
       "      <td>Placed</td>\n",
       "    </tr>\n",
       "    <tr>\n",
       "      <th>1</th>\n",
       "      <td>79.33</td>\n",
       "      <td>78.33</td>\n",
       "      <td>77.48</td>\n",
       "      <td>86.5</td>\n",
       "      <td>66.28</td>\n",
       "      <td>Placed</td>\n",
       "    </tr>\n",
       "    <tr>\n",
       "      <th>2</th>\n",
       "      <td>65.00</td>\n",
       "      <td>68.00</td>\n",
       "      <td>64.00</td>\n",
       "      <td>75.0</td>\n",
       "      <td>57.80</td>\n",
       "      <td>Placed</td>\n",
       "    </tr>\n",
       "    <tr>\n",
       "      <th>3</th>\n",
       "      <td>56.00</td>\n",
       "      <td>52.00</td>\n",
       "      <td>52.00</td>\n",
       "      <td>66.0</td>\n",
       "      <td>59.43</td>\n",
       "      <td>Not Placed</td>\n",
       "    </tr>\n",
       "    <tr>\n",
       "      <th>4</th>\n",
       "      <td>85.80</td>\n",
       "      <td>73.60</td>\n",
       "      <td>73.30</td>\n",
       "      <td>96.8</td>\n",
       "      <td>55.50</td>\n",
       "      <td>Placed</td>\n",
       "    </tr>\n",
       "    <tr>\n",
       "      <th>...</th>\n",
       "      <td>...</td>\n",
       "      <td>...</td>\n",
       "      <td>...</td>\n",
       "      <td>...</td>\n",
       "      <td>...</td>\n",
       "      <td>...</td>\n",
       "    </tr>\n",
       "    <tr>\n",
       "      <th>210</th>\n",
       "      <td>80.60</td>\n",
       "      <td>82.00</td>\n",
       "      <td>77.60</td>\n",
       "      <td>91.0</td>\n",
       "      <td>74.49</td>\n",
       "      <td>Placed</td>\n",
       "    </tr>\n",
       "    <tr>\n",
       "      <th>211</th>\n",
       "      <td>58.00</td>\n",
       "      <td>60.00</td>\n",
       "      <td>72.00</td>\n",
       "      <td>74.0</td>\n",
       "      <td>53.62</td>\n",
       "      <td>Placed</td>\n",
       "    </tr>\n",
       "    <tr>\n",
       "      <th>212</th>\n",
       "      <td>67.00</td>\n",
       "      <td>67.00</td>\n",
       "      <td>73.00</td>\n",
       "      <td>59.0</td>\n",
       "      <td>69.72</td>\n",
       "      <td>Placed</td>\n",
       "    </tr>\n",
       "    <tr>\n",
       "      <th>213</th>\n",
       "      <td>74.00</td>\n",
       "      <td>66.00</td>\n",
       "      <td>58.00</td>\n",
       "      <td>70.0</td>\n",
       "      <td>60.23</td>\n",
       "      <td>Placed</td>\n",
       "    </tr>\n",
       "    <tr>\n",
       "      <th>214</th>\n",
       "      <td>62.00</td>\n",
       "      <td>58.00</td>\n",
       "      <td>53.00</td>\n",
       "      <td>89.0</td>\n",
       "      <td>60.22</td>\n",
       "      <td>Not Placed</td>\n",
       "    </tr>\n",
       "  </tbody>\n",
       "</table>\n",
       "<p>215 rows × 6 columns</p>\n",
       "</div>"
      ],
      "text/plain": [
       "     ssc_p  hsc_p  degree_p  etest_p  mba_p      status\n",
       "0    67.00  91.00     58.00     55.0  58.80      Placed\n",
       "1    79.33  78.33     77.48     86.5  66.28      Placed\n",
       "2    65.00  68.00     64.00     75.0  57.80      Placed\n",
       "3    56.00  52.00     52.00     66.0  59.43  Not Placed\n",
       "4    85.80  73.60     73.30     96.8  55.50      Placed\n",
       "..     ...    ...       ...      ...    ...         ...\n",
       "210  80.60  82.00     77.60     91.0  74.49      Placed\n",
       "211  58.00  60.00     72.00     74.0  53.62      Placed\n",
       "212  67.00  67.00     73.00     59.0  69.72      Placed\n",
       "213  74.00  66.00     58.00     70.0  60.23      Placed\n",
       "214  62.00  58.00     53.00     89.0  60.22  Not Placed\n",
       "\n",
       "[215 rows x 6 columns]"
      ]
     },
     "execution_count": 112,
     "metadata": {},
     "output_type": "execute_result"
    }
   ],
   "source": [
    "percentage = df[['ssc_p', 'hsc_p', 'degree_p', 'etest_p', 'mba_p', 'status']]\n",
    "percentage"
   ]
  },
  {
   "cell_type": "code",
   "execution_count": 113,
   "metadata": {},
   "outputs": [],
   "source": [
    "placed = percentage.loc[percentage['status'] == 'Placed']\n",
    "\n",
    "not_placed = percentage.loc[percentage['status'] == 'Not Placed']"
   ]
  },
  {
   "cell_type": "markdown",
   "metadata": {},
   "source": [
    "*Average percentage scores of placed and not placed:"
   ]
  },
  {
   "cell_type": "code",
   "execution_count": 114,
   "metadata": {},
   "outputs": [
    {
     "data": {
      "text/html": [
       "<div>\n",
       "<style scoped>\n",
       "    .dataframe tbody tr th:only-of-type {\n",
       "        vertical-align: middle;\n",
       "    }\n",
       "\n",
       "    .dataframe tbody tr th {\n",
       "        vertical-align: top;\n",
       "    }\n",
       "\n",
       "    .dataframe thead th {\n",
       "        text-align: right;\n",
       "    }\n",
       "</style>\n",
       "<table border=\"1\" class=\"dataframe\">\n",
       "  <thead>\n",
       "    <tr style=\"text-align: right;\">\n",
       "      <th></th>\n",
       "      <th>ssc_p</th>\n",
       "      <th>hsc_p</th>\n",
       "      <th>degree_p</th>\n",
       "      <th>etest_p</th>\n",
       "      <th>mba_p</th>\n",
       "    </tr>\n",
       "    <tr>\n",
       "      <th>status</th>\n",
       "      <th></th>\n",
       "      <th></th>\n",
       "      <th></th>\n",
       "      <th></th>\n",
       "      <th></th>\n",
       "    </tr>\n",
       "  </thead>\n",
       "  <tbody>\n",
       "    <tr>\n",
       "      <th>Placed</th>\n",
       "      <td>71.72</td>\n",
       "      <td>69.93</td>\n",
       "      <td>68.74</td>\n",
       "      <td>73.24</td>\n",
       "      <td>62.58</td>\n",
       "    </tr>\n",
       "    <tr>\n",
       "      <th>Not Placed</th>\n",
       "      <td>57.54</td>\n",
       "      <td>58.40</td>\n",
       "      <td>61.13</td>\n",
       "      <td>69.59</td>\n",
       "      <td>61.61</td>\n",
       "    </tr>\n",
       "  </tbody>\n",
       "</table>\n",
       "</div>"
      ],
      "text/plain": [
       "            ssc_p  hsc_p  degree_p  etest_p  mba_p\n",
       "status                                            \n",
       "Placed      71.72  69.93     68.74    73.24  62.58\n",
       "Not Placed  57.54  58.40     61.13    69.59  61.61"
      ]
     },
     "execution_count": 114,
     "metadata": {},
     "output_type": "execute_result"
    }
   ],
   "source": [
    "percentage.groupby(['status']).mean().round(2).sort_values(by='status', ascending=False)\n",
    "\n",
    "## average percentage of those placed/not placed"
   ]
  },
  {
   "cell_type": "code",
   "execution_count": 115,
   "metadata": {},
   "outputs": [
    {
     "name": "stdout",
     "output_type": "stream",
     "text": [
      "The overall average score of those placed is 69.24\n"
     ]
    }
   ],
   "source": [
    "avg_placed = percentage[percentage['status'] == 'Placed'].mean(numeric_only=True)\n",
    "print('The overall average score of those placed is', avg_placed.mean().round(2))"
   ]
  },
  {
   "cell_type": "code",
   "execution_count": 116,
   "metadata": {},
   "outputs": [
    {
     "name": "stdout",
     "output_type": "stream",
     "text": [
      "The overall average score of those not placed is 61.65\n"
     ]
    }
   ],
   "source": [
    "avg_not_placed = percentage[percentage['status'] == 'Not Placed'].mean(numeric_only=True)\n",
    "print(\"The overall average score of those not placed is\",avg_not_placed.mean().round(2))"
   ]
  },
  {
   "cell_type": "markdown",
   "metadata": {},
   "source": [
    "* The average of those placed is higher than those not placed"
   ]
  },
  {
   "cell_type": "markdown",
   "metadata": {},
   "source": [
    "              Task: Boxplot showing interquartile range of placed and not placed"
   ]
  },
  {
   "cell_type": "code",
   "execution_count": 117,
   "metadata": {},
   "outputs": [],
   "source": [
    "avg_perc = percentage.mean(axis=1, numeric_only=True)\n",
    "avg_perc_placed = percentage[percentage['status'] == 'Placed'].mean(axis=1, numeric_only=True)\n",
    "avg_perc_not_placed = percentage[percentage['status'] == 'Not Placed'].mean(axis=1, numeric_only=True)"
   ]
  },
  {
   "cell_type": "code",
   "execution_count": 118,
   "metadata": {},
   "outputs": [
    {
     "name": "stdout",
     "output_type": "stream",
     "text": [
      "Average across all 5 degree types\n",
      "Overall Q25 = 62.26\n",
      "Overall Q75 = 71.31\n",
      "Overall IQR = 9.05\n",
      "----------------------------\n",
      "Placed Q25 = 64.53\n",
      "Placed Q75 = 73.52\n",
      "Placed IQR = 8.99\n",
      "----------------------------\n",
      "Not Placed Q25 = 57.58\n",
      "Not Placed Q75 = 64.66\n",
      "Not Placed IQR = 8.99\n",
      "----------------------------\n"
     ]
    }
   ],
   "source": [
    "print(\"Average across all 5 degree types\")\n",
    "\n",
    "q25, q75 = np.percentile(avg_perc, 25).round(2), np.percentile(avg_perc, 75).round(2)\n",
    "print('Overall Q25 =', q25)\n",
    "print('Overall Q75 =', q75)\n",
    "IQR = (q75 - q25).round(2)\n",
    "print('Overall IQR =', IQR)\n",
    "print('----------------------------')\n",
    "\n",
    "Pq25, Pq75 = np.percentile(avg_perc_placed, 25).round(2), np.percentile(avg_perc_placed, 75).round(2)\n",
    "print('Placed Q25 =', Pq25)\n",
    "print('Placed Q75 =', Pq75)\n",
    "PIQR = (Pq75 - Pq25).round(2)\n",
    "print('Placed IQR =', PIQR)\n",
    "print('----------------------------')\n",
    "\n",
    "NPq25, NPq75 = np.percentile(avg_perc_not_placed, 25).round(2), np.percentile(avg_perc_not_placed, 75).round(2)\n",
    "print('Not Placed Q25 =', NPq25)\n",
    "print('Not Placed Q75 =', NPq75)\n",
    "NPIQR = (Pq75 - Pq25).round(2)\n",
    "print('Not Placed IQR =', NPIQR)\n",
    "print('----------------------------')\n"
   ]
  },
  {
   "cell_type": "code",
   "execution_count": 119,
   "metadata": {},
   "outputs": [
    {
     "name": "stdout",
     "output_type": "stream",
     "text": [
      "Overall ssc_p Q25 = 60.6\n",
      "Overall ssc_p Q75 = 75.7\n",
      "Overall ssc_p IQR = 15.1\n",
      "----------------------------\n",
      "Placed ssc_p Q25 = 65.0\n",
      "Placed ssc_p Q75 = 78.12\n",
      "Placed ssc_p IQR = 13.12\n",
      "----------------------------\n",
      "Not Placed ssc_p Q25 = 52.0\n",
      "Not Placed ssc_p Q75 = 63.0\n",
      "Not Placed ssc_p IQR = 13.12\n",
      "----------------------------\n"
     ]
    }
   ],
   "source": [
    "q25, q75 = np.percentile(percentage['ssc_p'], 25).round(2), np.percentile(percentage['ssc_p'], 75).round(2)\n",
    "print('Overall ssc_p Q25 =', q25)\n",
    "print('Overall ssc_p Q75 =', q75)\n",
    "IQR = (q75 - q25).round(2)\n",
    "print('Overall ssc_p IQR =', IQR)\n",
    "print('----------------------------')\n",
    "\n",
    "\n",
    "Pq25, Pq75 = np.percentile(placed['ssc_p'], 25).round(2), np.percentile(placed['ssc_p'], 75).round(2)\n",
    "print('Placed ssc_p Q25 =', Pq25)\n",
    "print('Placed ssc_p Q75 =', Pq75)\n",
    "PIQR = (Pq75 - Pq25).round(2)\n",
    "print('Placed ssc_p IQR =', PIQR)\n",
    "print('----------------------------')\n",
    "\n",
    "NPq25, NPq75 = np.percentile(not_placed['ssc_p'], 25).round(2), np.percentile(not_placed['ssc_p'], 75).round(2)\n",
    "print('Not Placed ssc_p Q25 =', NPq25)\n",
    "print('Not Placed ssc_p Q75 =', NPq75)\n",
    "NPIQR = (Pq75 - Pq25).round(2)\n",
    "print('Not Placed ssc_p IQR =', NPIQR)\n",
    "print('----------------------------')"
   ]
  },
  {
   "cell_type": "code",
   "execution_count": 120,
   "metadata": {},
   "outputs": [
    {
     "name": "stdout",
     "output_type": "stream",
     "text": [
      "Overall hsc_p Q25 = 60.9\n",
      "Overall hsc_p Q75 = 73.0\n",
      "Overall hsc_p IQR = 12.0\n",
      "----------------------------\n",
      "Placed hsc_p Q25 = 63.0\n",
      "Placed hsc_p Q75 = 75.25\n",
      "Placed hsc_p IQR = 12.25\n",
      "----------------------------\n",
      "Not Placed hsc_p Q25 = 51.0\n",
      "Not Placed hsc_p Q75 = 64.0\n",
      "Not Placed hsc_p IQR = 12.25\n",
      "----------------------------\n"
     ]
    }
   ],
   "source": [
    "q25, q75 = np.percentile(percentage['hsc_p'], 25), np.percentile(percentage['hsc_p'], 75)\n",
    "print('Overall hsc_p Q25 =', q25)\n",
    "print('Overall hsc_p Q75 =', q75)\n",
    "IQR = (q75 - q25).round()\n",
    "print('Overall hsc_p IQR =', IQR)\n",
    "print('----------------------------')\n",
    "\n",
    "Pq25, Pq75 = np.percentile(placed['hsc_p'], 25).round(2), np.percentile(placed['hsc_p'], 75).round(2)\n",
    "print('Placed hsc_p Q25 =', Pq25)\n",
    "print('Placed hsc_p Q75 =', Pq75)\n",
    "PIQR = (Pq75 - Pq25).round(2)\n",
    "print('Placed hsc_p IQR =', PIQR)\n",
    "print('----------------------------')\n",
    "\n",
    "NPq25, NPq75 = np.percentile(not_placed['hsc_p'], 25).round(2), np.percentile(not_placed['hsc_p'], 75).round(2)\n",
    "print('Not Placed hsc_p Q25 =', NPq25)\n",
    "print('Not Placed hsc_p Q75 =', NPq75)\n",
    "NPIQR = (Pq75 - Pq25).round(2)\n",
    "print('Not Placed hsc_p IQR =', NPIQR)\n",
    "print('----------------------------')"
   ]
  },
  {
   "cell_type": "code",
   "execution_count": 121,
   "metadata": {},
   "outputs": [
    {
     "name": "stdout",
     "output_type": "stream",
     "text": [
      "Overall degree_p Q25 = 61.0\n",
      "Overall degree_p Q75 = 72.0\n",
      "Overall degree_p IQR = 11.0\n",
      "----------------------------\n",
      "Placed degree_p Q25 = 65.0\n",
      "Placed degree_p Q75 = 72.42\n",
      "Placed degree_p IQR = 7.42\n",
      "----------------------------\n",
      "Not Placed degree_p Q25 = 57.0\n",
      "Not Placed degree_p Q75 = 65.0\n",
      "Not Placed degree_p IQR = 7.42\n",
      "----------------------------\n"
     ]
    }
   ],
   "source": [
    "q25, q75 = np.percentile(percentage['degree_p'], 25).round(2), np.percentile(percentage['degree_p'], 75).round(2)\n",
    "print('Overall degree_p Q25 =', q25)\n",
    "print('Overall degree_p Q75 =', q75)\n",
    "IQR = (q75 - q25).round(2)\n",
    "print('Overall degree_p IQR =', IQR)\n",
    "print('----------------------------')\n",
    "\n",
    "Pq25, Pq75 = np.percentile(placed['degree_p'], 25).round(2), np.percentile(placed['degree_p'], 75).round(2)\n",
    "print('Placed degree_p Q25 =', Pq25)\n",
    "print('Placed degree_p Q75 =', Pq75)\n",
    "PIQR = (Pq75 - Pq25).round(2)\n",
    "print('Placed degree_p IQR =', PIQR)\n",
    "print('----------------------------')\n",
    "\n",
    "NPq25, NPq75 = np.percentile(not_placed['degree_p'], 25).round(2), np.percentile(not_placed['degree_p'], 75).round(2)\n",
    "print('Not Placed degree_p Q25 =', NPq25)\n",
    "print('Not Placed degree_p Q75 =', NPq75)\n",
    "NPIQR = (Pq75 - Pq25).round(2)\n",
    "print('Not Placed degree_p IQR =', NPIQR)\n",
    "print('----------------------------')"
   ]
  },
  {
   "cell_type": "code",
   "execution_count": 122,
   "metadata": {},
   "outputs": [
    {
     "name": "stdout",
     "output_type": "stream",
     "text": [
      "Overall etest_p Q25 = 60.0\n",
      "Overall etest_p Q75 = 83.5\n",
      "Overall etest_p IQR = 23.5\n",
      "----------------------------\n",
      "Placed etest_p Q25 = 60.0\n",
      "Placed etest_p Q75 = 85.0\n",
      "Placed etest_p IQR = 25.0\n",
      "----------------------------\n",
      "Not Placed etest_p Q25 = 60.0\n",
      "Not Placed etest_p Q75 = 76.5\n",
      "Not Placed etest_p IQR = 25.0\n",
      "----------------------------\n"
     ]
    }
   ],
   "source": [
    "q25, q75 = np.percentile(percentage['etest_p'], 25).round(2), np.percentile(percentage['etest_p'], 75).round(2)\n",
    "print('Overall etest_p Q25 =', q25)\n",
    "print('Overall etest_p Q75 =', q75)\n",
    "IQR = (q75 - q25).round(2)\n",
    "print('Overall etest_p IQR =', IQR)\n",
    "print('----------------------------')\n",
    "\n",
    "\n",
    "Pq25, Pq75 = np.percentile(placed['etest_p'], 25).round(2), np.percentile(placed['etest_p'], 75).round(2)\n",
    "print('Placed etest_p Q25 =', Pq25)\n",
    "print('Placed etest_p Q75 =', Pq75)\n",
    "PIQR = (Pq75 - Pq25).round(2)\n",
    "print('Placed etest_p IQR =', PIQR)\n",
    "print('----------------------------')\n",
    "\n",
    "NPq25, NPq75 = np.percentile(not_placed['etest_p'], 25).round(2), np.percentile(not_placed['etest_p'], 75).round(2)\n",
    "print('Not Placed etest_p Q25 =', NPq25)\n",
    "print('Not Placed etest_p Q75 =', NPq75)\n",
    "NPIQR = (Pq75 - Pq25).round(2)\n",
    "print('Not Placed etest_p IQR =', NPIQR)\n",
    "print('----------------------------')"
   ]
  },
  {
   "cell_type": "code",
   "execution_count": 123,
   "metadata": {},
   "outputs": [
    {
     "name": "stdout",
     "output_type": "stream",
     "text": [
      "Overall mba_p Q25 = 57.94\n",
      "Overall mba_p Q75 = 66.26\n",
      "Overall mba_p IQR = 8.32\n",
      "----------------------------\n",
      "Placed mba_p Q25 = 57.77\n",
      "Placed mba_p Q75 = 66.76\n",
      "Placed mba_p IQR = 8.99\n",
      "----------------------------\n",
      "Not Placed mba_p Q25 = 58.48\n",
      "Not Placed mba_p Q75 = 65.4\n",
      "Not Placed mba_p IQR = 8.99\n",
      "----------------------------\n"
     ]
    }
   ],
   "source": [
    "q25, q75 = np.percentile(percentage['mba_p'], 25).round(2), np.percentile(percentage['mba_p'], 75).round(2)\n",
    "print('Overall mba_p Q25 =', q25)\n",
    "print('Overall mba_p Q75 =', q75)\n",
    "IQR = (q75 - q25).round(2)\n",
    "print('Overall mba_p IQR =', IQR)\n",
    "print('----------------------------')\n",
    "\n",
    "\n",
    "Pq25, Pq75 = np.percentile(placed['mba_p'], 25).round(2), np.percentile(placed['mba_p'], 75).round(2)\n",
    "print('Placed mba_p Q25 =', Pq25)\n",
    "print('Placed mba_p Q75 =', Pq75)\n",
    "PIQR = (Pq75 - Pq25).round(2)\n",
    "print('Placed mba_p IQR =', PIQR)\n",
    "print('----------------------------')\n",
    "\n",
    "NPq25, NPq75 = np.percentile(not_placed['mba_p'], 25).round(2), np.percentile(not_placed['mba_p'], 75).round(2)\n",
    "print('Not Placed mba_p Q25 =', NPq25)\n",
    "print('Not Placed mba_p Q75 =', NPq75)\n",
    "NPIQR = (Pq75 - Pq25).round(2)\n",
    "print('Not Placed mba_p IQR =', NPIQR)\n",
    "print('----------------------------')"
   ]
  },
  {
   "cell_type": "code",
   "execution_count": 124,
   "metadata": {},
   "outputs": [
    {
     "data": {
      "image/png": "[encoded data removed]",
      "text/plain": [
       "<Figure size 1296x1296 with 6 Axes>"
      ]
     },
     "metadata": {},
     "output_type": "display_data"
    }
   ],
   "source": [
    "fig = plt.figure(figsize=(18,18))\n",
    "gs = fig.add_gridspec(3,4)\n",
    "gs.update(wspace=0.3, hspace=0.15)\n",
    "ax0 = fig.add_subplot(gs[0,0])\n",
    "ax1 = fig.add_subplot(gs[0,1])\n",
    "ax2 = fig.add_subplot(gs[0,2])\n",
    "ax3 = fig.add_subplot(gs[1,1])\n",
    "ax4 = fig.add_subplot(gs[1,2])\n",
    "ax5 = fig.add_subplot(gs[-2,0])\n",
    "\n",
    "background_color = \"#FFF8DC\"\n",
    "\n",
    "fig.patch.set_facecolor(background_color) \n",
    "ax0.set_facecolor(background_color) \n",
    "ax1.set_facecolor(background_color) \n",
    "ax2.set_facecolor(background_color) \n",
    "ax3.set_facecolor(background_color) \n",
    "ax4.set_facecolor(background_color) \n",
    "ax5.set_facecolor(background_color)\n",
    "\n",
    "ax0.text(0.5,0.5,\"__________________________ \\n \\nBoxplots showing range \\nof scores for \\nplaced/not placed \\n__________________________\",\n",
    "        horizontalalignment = 'center',\n",
    "        verticalalignment = 'center',\n",
    "        fontsize = 16,\n",
    "        fontweight='bold',\n",
    "        fontfamily='serif',\n",
    "        color='#000000')\n",
    "\n",
    "ax0.set_xticklabels([])\n",
    "ax0.set_yticklabels([])\n",
    "ax0.tick_params(left=False, bottom=False)\n",
    "\n",
    "ax1.grid(color='#000000', linestyle=':', axis='y', zorder=0)\n",
    "sns.boxplot(ax=ax1, data=percentage, x='status', y='ssc_p')\n",
    "ax1.set_xlabel(\"status\")\n",
    "ax1.set_ylabel('ssc_p')\n",
    "\n",
    "ax2.grid(color='#000000', linestyle=':', axis='y', zorder=0)\n",
    "sns.boxplot(ax=ax2, data=percentage, x='status', y='hsc_p')\n",
    "ax2.set_xlabel(\"status\")\n",
    "ax2.set_ylabel('hsc_p')\n",
    "\n",
    "ax3.grid(color='#000000', linestyle=':', axis='y', zorder=0)\n",
    "sns.boxplot(ax=ax3, data=percentage, x='status', y='degree_p')\n",
    "ax3.set_xlabel(\"status\")\n",
    "ax3.set_ylabel('degree_p')\n",
    "\n",
    "ax4.grid(color='#000000', linestyle=':', axis='y', zorder=0)\n",
    "sns.boxplot(ax=ax4, data=percentage, x='status', y='etest_p')\n",
    "ax4.set_xlabel(\"status\")\n",
    "ax4.set_ylabel('etest_p')\n",
    "\n",
    "ax5.grid(color='#000000', linestyle=':', axis='y', zorder=0)\n",
    "sns.boxplot(ax=ax5, data=percentage, x='status', y='mba_p')\n",
    "ax5.set_xlabel(\"status\")\n",
    "ax5.set_ylabel('mba_p')\n",
    "\n",
    "\n",
    "ax0.spines[\"top\"].set_visible(False)\n",
    "ax0.spines[\"left\"].set_visible(False)\n",
    "ax0.spines[\"bottom\"].set_visible(False)\n",
    "ax0.spines[\"right\"].set_visible(False)\n",
    "\n",
    "ax1.spines[\"top\"].set_visible(False)\n",
    "ax1.spines[\"left\"].set_visible(False)\n",
    "ax1.spines[\"right\"].set_visible(False)\n",
    "\n",
    "ax2.spines[\"top\"].set_visible(False)\n",
    "ax2.spines[\"left\"].set_visible(False)\n",
    "ax2.spines[\"right\"].set_visible(False)\n",
    "\n",
    "ax3.spines[\"top\"].set_visible(False)\n",
    "ax3.spines[\"left\"].set_visible(False)\n",
    "ax3.spines[\"right\"].set_visible(False)\n",
    "\n",
    "ax4.spines[\"top\"].set_visible(False)\n",
    "ax4.spines[\"left\"].set_visible(False)\n",
    "ax4.spines[\"right\"].set_visible(False)\n",
    "\n",
    "ax5.spines[\"top\"].set_visible(False)\n",
    "ax5.spines[\"left\"].set_visible(False)\n",
    "ax5.spines[\"right\"].set_visible(False)\n",
    "\n"
   ]
  },
  {
   "cell_type": "markdown",
   "metadata": {},
   "source": [
    "* The data above shows that there is a correlation between the percentage score and who gets placed, with it mattering in some degrees than others.\n",
    "\n",
    "* The values for q25 and q75 are higher for placed students than not placed students in all 5 degree types, with it being particularly important ssc, hsc and degree_p types. "
   ]
  }
 ],
 "metadata": {
  "interpreter": {
   "hash": "cb86c0f8e40fb2e8ed94ce38f6315e93f5f4e4c0b716d0bd7e2c96ac7a828058"
  },
  "kernelspec": {
   "display_name": "Python 3.9.13 64-bit (windows store)",
   "language": "python",
   "name": "python3"
  },
  "language_info": {
   "codemirror_mode": {
    "name": "ipython",
    "version": 3
   },
   "file_extension": ".py",
   "mimetype": "text/x-python",
   "name": "python",
   "nbconvert_exporter": "python",
   "pygments_lexer": "ipython3",
   "version": "3.9.13"
  },
  "orig_nbformat": 4
 },
 "nbformat": 4,
 "nbformat_minor": 2
}
