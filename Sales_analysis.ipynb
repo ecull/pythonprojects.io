{
 "cells": [
  {
   "cell_type": "code",
   "execution_count": 1,
   "metadata": {},
   "outputs": [],
   "source": [
    "import pandas as pd\n",
    "import numpy as np\n",
    "import matplotlib.pyplot as plt\n",
    "%matplotlib inline\n",
    "import seaborn as sns\n",
    "import plotly.express as px"
   ]
  },
  {
   "cell_type": "code",
   "execution_count": 2,
   "metadata": {},
   "outputs": [],
   "source": [
    "df = pd.read_excel(\"C:\\\\Users\\\\ecull\\\\OneDrive\\\\Documents\\\\Frimpong_sales\\\\sales_data.xlsx\")"
   ]
  },
  {
   "cell_type": "code",
   "execution_count": 3,
   "metadata": {},
   "outputs": [
    {
     "data": {
      "text/html": [
       "<div>\n",
       "<style scoped>\n",
       "    .dataframe tbody tr th:only-of-type {\n",
       "        vertical-align: middle;\n",
       "    }\n",
       "\n",
       "    .dataframe tbody tr th {\n",
       "        vertical-align: top;\n",
       "    }\n",
       "\n",
       "    .dataframe thead th {\n",
       "        text-align: right;\n",
       "    }\n",
       "</style>\n",
       "<table border=\"1\" class=\"dataframe\">\n",
       "  <thead>\n",
       "    <tr style=\"text-align: right;\">\n",
       "      <th></th>\n",
       "      <th>ORDERNUMBER</th>\n",
       "      <th>QUANTITYORDERED</th>\n",
       "      <th>PRICEEACH</th>\n",
       "      <th>ORDERLINENUMBER</th>\n",
       "      <th>SALES</th>\n",
       "      <th>ORDERDATE</th>\n",
       "      <th>STATUS</th>\n",
       "      <th>QTR_ID</th>\n",
       "      <th>MONTH_ID</th>\n",
       "      <th>YEAR_ID</th>\n",
       "      <th>...</th>\n",
       "      <th>ADDRESSLINE1</th>\n",
       "      <th>ADDRESSLINE2</th>\n",
       "      <th>CITY</th>\n",
       "      <th>STATE</th>\n",
       "      <th>POSTALCODE</th>\n",
       "      <th>COUNTRY</th>\n",
       "      <th>TERRITORY</th>\n",
       "      <th>CONTACTLASTNAME</th>\n",
       "      <th>CONTACTFIRSTNAME</th>\n",
       "      <th>DEALSIZE</th>\n",
       "    </tr>\n",
       "  </thead>\n",
       "  <tbody>\n",
       "    <tr>\n",
       "      <th>0</th>\n",
       "      <td>10107</td>\n",
       "      <td>30</td>\n",
       "      <td>95.70</td>\n",
       "      <td>2</td>\n",
       "      <td>2871.00</td>\n",
       "      <td>2/24/2003 0:00</td>\n",
       "      <td>Shipped</td>\n",
       "      <td>1</td>\n",
       "      <td>2</td>\n",
       "      <td>2003</td>\n",
       "      <td>...</td>\n",
       "      <td>897 Long Airport Avenue</td>\n",
       "      <td>NaN</td>\n",
       "      <td>NYC</td>\n",
       "      <td>NY</td>\n",
       "      <td>10022</td>\n",
       "      <td>USA</td>\n",
       "      <td>NaN</td>\n",
       "      <td>Yu</td>\n",
       "      <td>Kwai</td>\n",
       "      <td>Small</td>\n",
       "    </tr>\n",
       "    <tr>\n",
       "      <th>1</th>\n",
       "      <td>10121</td>\n",
       "      <td>34</td>\n",
       "      <td>81.35</td>\n",
       "      <td>5</td>\n",
       "      <td>2765.90</td>\n",
       "      <td>2003-07-05 00:00:00</td>\n",
       "      <td>Shipped</td>\n",
       "      <td>2</td>\n",
       "      <td>5</td>\n",
       "      <td>2003</td>\n",
       "      <td>...</td>\n",
       "      <td>59 rue de l'Abbaye</td>\n",
       "      <td>NaN</td>\n",
       "      <td>Reims</td>\n",
       "      <td>NaN</td>\n",
       "      <td>51100</td>\n",
       "      <td>France</td>\n",
       "      <td>EMEA</td>\n",
       "      <td>Henriot</td>\n",
       "      <td>Paul</td>\n",
       "      <td>Small</td>\n",
       "    </tr>\n",
       "    <tr>\n",
       "      <th>2</th>\n",
       "      <td>10134</td>\n",
       "      <td>41</td>\n",
       "      <td>94.74</td>\n",
       "      <td>2</td>\n",
       "      <td>3884.34</td>\n",
       "      <td>2003-01-07 00:00:00</td>\n",
       "      <td>Shipped</td>\n",
       "      <td>3</td>\n",
       "      <td>7</td>\n",
       "      <td>2003</td>\n",
       "      <td>...</td>\n",
       "      <td>27 rue du Colonel Pierre Avia</td>\n",
       "      <td>NaN</td>\n",
       "      <td>Paris</td>\n",
       "      <td>NaN</td>\n",
       "      <td>75508</td>\n",
       "      <td>France</td>\n",
       "      <td>EMEA</td>\n",
       "      <td>Da Cunha</td>\n",
       "      <td>Daniel</td>\n",
       "      <td>Medium</td>\n",
       "    </tr>\n",
       "    <tr>\n",
       "      <th>3</th>\n",
       "      <td>10145</td>\n",
       "      <td>45</td>\n",
       "      <td>83.26</td>\n",
       "      <td>6</td>\n",
       "      <td>3746.70</td>\n",
       "      <td>8/25/2003 0:00</td>\n",
       "      <td>Shipped</td>\n",
       "      <td>3</td>\n",
       "      <td>8</td>\n",
       "      <td>2003</td>\n",
       "      <td>...</td>\n",
       "      <td>78934 Hillside Dr.</td>\n",
       "      <td>NaN</td>\n",
       "      <td>Pasadena</td>\n",
       "      <td>CA</td>\n",
       "      <td>90003</td>\n",
       "      <td>USA</td>\n",
       "      <td>NaN</td>\n",
       "      <td>Young</td>\n",
       "      <td>Julie</td>\n",
       "      <td>Medium</td>\n",
       "    </tr>\n",
       "    <tr>\n",
       "      <th>4</th>\n",
       "      <td>10159</td>\n",
       "      <td>49</td>\n",
       "      <td>100.00</td>\n",
       "      <td>14</td>\n",
       "      <td>5205.27</td>\n",
       "      <td>2003-10-10 00:00:00</td>\n",
       "      <td>Shipped</td>\n",
       "      <td>4</td>\n",
       "      <td>10</td>\n",
       "      <td>2003</td>\n",
       "      <td>...</td>\n",
       "      <td>7734 Strong St.</td>\n",
       "      <td>NaN</td>\n",
       "      <td>San Francisco</td>\n",
       "      <td>CA</td>\n",
       "      <td>NaN</td>\n",
       "      <td>USA</td>\n",
       "      <td>NaN</td>\n",
       "      <td>Brown</td>\n",
       "      <td>Julie</td>\n",
       "      <td>Medium</td>\n",
       "    </tr>\n",
       "  </tbody>\n",
       "</table>\n",
       "<p>5 rows × 25 columns</p>\n",
       "</div>"
      ],
      "text/plain": [
       "   ORDERNUMBER  QUANTITYORDERED  PRICEEACH  ORDERLINENUMBER    SALES  \\\n",
       "0        10107               30      95.70                2  2871.00   \n",
       "1        10121               34      81.35                5  2765.90   \n",
       "2        10134               41      94.74                2  3884.34   \n",
       "3        10145               45      83.26                6  3746.70   \n",
       "4        10159               49     100.00               14  5205.27   \n",
       "\n",
       "             ORDERDATE   STATUS  QTR_ID  MONTH_ID  YEAR_ID  ...  \\\n",
       "0       2/24/2003 0:00  Shipped       1         2     2003  ...   \n",
       "1  2003-07-05 00:00:00  Shipped       2         5     2003  ...   \n",
       "2  2003-01-07 00:00:00  Shipped       3         7     2003  ...   \n",
       "3       8/25/2003 0:00  Shipped       3         8     2003  ...   \n",
       "4  2003-10-10 00:00:00  Shipped       4        10     2003  ...   \n",
       "\n",
       "                    ADDRESSLINE1  ADDRESSLINE2           CITY STATE  \\\n",
       "0        897 Long Airport Avenue           NaN            NYC    NY   \n",
       "1             59 rue de l'Abbaye           NaN          Reims   NaN   \n",
       "2  27 rue du Colonel Pierre Avia           NaN          Paris   NaN   \n",
       "3             78934 Hillside Dr.           NaN       Pasadena    CA   \n",
       "4                7734 Strong St.           NaN  San Francisco    CA   \n",
       "\n",
       "  POSTALCODE COUNTRY TERRITORY CONTACTLASTNAME CONTACTFIRSTNAME DEALSIZE  \n",
       "0      10022     USA       NaN              Yu             Kwai    Small  \n",
       "1      51100  France      EMEA         Henriot             Paul    Small  \n",
       "2      75508  France      EMEA        Da Cunha           Daniel   Medium  \n",
       "3      90003     USA       NaN           Young            Julie   Medium  \n",
       "4        NaN     USA       NaN           Brown            Julie   Medium  \n",
       "\n",
       "[5 rows x 25 columns]"
      ]
     },
     "execution_count": 3,
     "metadata": {},
     "output_type": "execute_result"
    }
   ],
   "source": [
    "df.head()"
   ]
  },
  {
   "cell_type": "code",
   "execution_count": 4,
   "metadata": {},
   "outputs": [
    {
     "data": {
      "text/plain": [
       "(2823, 25)"
      ]
     },
     "execution_count": 4,
     "metadata": {},
     "output_type": "execute_result"
    }
   ],
   "source": [
    "df.shape"
   ]
  },
  {
   "cell_type": "code",
   "execution_count": 5,
   "metadata": {},
   "outputs": [
    {
     "data": {
      "text/plain": [
       "ORDERNUMBER            0\n",
       "QUANTITYORDERED        0\n",
       "PRICEEACH              0\n",
       "ORDERLINENUMBER        0\n",
       "SALES                  0\n",
       "ORDERDATE              0\n",
       "STATUS                 0\n",
       "QTR_ID                 0\n",
       "MONTH_ID               0\n",
       "YEAR_ID                0\n",
       "PRODUCTLINE            0\n",
       "MSRP                   0\n",
       "PRODUCTCODE            0\n",
       "CUSTOMERNAME           0\n",
       "PHONE                  0\n",
       "ADDRESSLINE1           0\n",
       "ADDRESSLINE2        2521\n",
       "CITY                   0\n",
       "STATE               1486\n",
       "POSTALCODE            76\n",
       "COUNTRY                0\n",
       "TERRITORY           1074\n",
       "CONTACTLASTNAME        0\n",
       "CONTACTFIRSTNAME       0\n",
       "DEALSIZE               0\n",
       "dtype: int64"
      ]
     },
     "execution_count": 5,
     "metadata": {},
     "output_type": "execute_result"
    }
   ],
   "source": [
    "df.isnull().sum()"
   ]
  },
  {
   "cell_type": "markdown",
   "metadata": {},
   "source": [
    "There are null values in some of the columns related to the delivery address, however there is no null values regarding orders, products or delivery status, therefore every order recorded is fully accounted for in terms of the essential information that is required."
   ]
  },
  {
   "cell_type": "markdown",
   "metadata": {},
   "source": [
    "Therefore, I will not make any changes to any columns/rows due to any null values."
   ]
  },
  {
   "cell_type": "code",
   "execution_count": 6,
   "metadata": {},
   "outputs": [
    {
     "data": {
      "text/plain": [
       "ORDERNUMBER           int64\n",
       "QUANTITYORDERED       int64\n",
       "PRICEEACH           float64\n",
       "ORDERLINENUMBER       int64\n",
       "SALES               float64\n",
       "ORDERDATE            object\n",
       "STATUS               object\n",
       "QTR_ID                int64\n",
       "MONTH_ID              int64\n",
       "YEAR_ID               int64\n",
       "PRODUCTLINE          object\n",
       "MSRP                  int64\n",
       "PRODUCTCODE          object\n",
       "CUSTOMERNAME         object\n",
       "PHONE                object\n",
       "ADDRESSLINE1         object\n",
       "ADDRESSLINE2         object\n",
       "CITY                 object\n",
       "STATE                object\n",
       "POSTALCODE           object\n",
       "COUNTRY              object\n",
       "TERRITORY            object\n",
       "CONTACTLASTNAME      object\n",
       "CONTACTFIRSTNAME     object\n",
       "DEALSIZE             object\n",
       "dtype: object"
      ]
     },
     "execution_count": 6,
     "metadata": {},
     "output_type": "execute_result"
    }
   ],
   "source": [
    "df.dtypes"
   ]
  },
  {
   "cell_type": "markdown",
   "metadata": {},
   "source": [
    "Order date is listed as an object. I want to change it to a datetime datatype for my analysis."
   ]
  },
  {
   "cell_type": "markdown",
   "metadata": {},
   "source": [
    "All order times were recroded at 00:00. Therefore, removed time and just have the calender date in the orderdate column. "
   ]
  },
  {
   "cell_type": "code",
   "execution_count": 7,
   "metadata": {},
   "outputs": [],
   "source": [
    "df['ORDERDATE'] = pd.to_datetime(df['ORDERDATE'])"
   ]
  },
  {
   "cell_type": "code",
   "execution_count": 8,
   "metadata": {},
   "outputs": [
    {
     "data": {
      "text/plain": [
       "ORDERNUMBER                  int64\n",
       "QUANTITYORDERED              int64\n",
       "PRICEEACH                  float64\n",
       "ORDERLINENUMBER              int64\n",
       "SALES                      float64\n",
       "ORDERDATE           datetime64[ns]\n",
       "STATUS                      object\n",
       "QTR_ID                       int64\n",
       "MONTH_ID                     int64\n",
       "YEAR_ID                      int64\n",
       "PRODUCTLINE                 object\n",
       "MSRP                         int64\n",
       "PRODUCTCODE                 object\n",
       "CUSTOMERNAME                object\n",
       "PHONE                       object\n",
       "ADDRESSLINE1                object\n",
       "ADDRESSLINE2                object\n",
       "CITY                        object\n",
       "STATE                       object\n",
       "POSTALCODE                  object\n",
       "COUNTRY                     object\n",
       "TERRITORY                   object\n",
       "CONTACTLASTNAME             object\n",
       "CONTACTFIRSTNAME            object\n",
       "DEALSIZE                    object\n",
       "dtype: object"
      ]
     },
     "execution_count": 8,
     "metadata": {},
     "output_type": "execute_result"
    }
   ],
   "source": [
    "df.dtypes"
   ]
  },
  {
   "cell_type": "markdown",
   "metadata": {},
   "source": [
    "        Find distribution of order status"
   ]
  },
  {
   "cell_type": "code",
   "execution_count": 9,
   "metadata": {},
   "outputs": [
    {
     "data": {
      "text/html": [
       "<div>\n",
       "<style scoped>\n",
       "    .dataframe tbody tr th:only-of-type {\n",
       "        vertical-align: middle;\n",
       "    }\n",
       "\n",
       "    .dataframe tbody tr th {\n",
       "        vertical-align: top;\n",
       "    }\n",
       "\n",
       "    .dataframe thead th {\n",
       "        text-align: right;\n",
       "    }\n",
       "</style>\n",
       "<table border=\"1\" class=\"dataframe\">\n",
       "  <thead>\n",
       "    <tr style=\"text-align: right;\">\n",
       "      <th></th>\n",
       "      <th>Status (%)</th>\n",
       "    </tr>\n",
       "  </thead>\n",
       "  <tbody>\n",
       "    <tr>\n",
       "      <th>Shipped</th>\n",
       "      <td>92.70</td>\n",
       "    </tr>\n",
       "    <tr>\n",
       "      <th>Cancelled</th>\n",
       "      <td>2.13</td>\n",
       "    </tr>\n",
       "    <tr>\n",
       "      <th>Resolved</th>\n",
       "      <td>1.66</td>\n",
       "    </tr>\n",
       "    <tr>\n",
       "      <th>On Hold</th>\n",
       "      <td>1.56</td>\n",
       "    </tr>\n",
       "    <tr>\n",
       "      <th>In Process</th>\n",
       "      <td>1.45</td>\n",
       "    </tr>\n",
       "    <tr>\n",
       "      <th>Disputed</th>\n",
       "      <td>0.50</td>\n",
       "    </tr>\n",
       "  </tbody>\n",
       "</table>\n",
       "</div>"
      ],
      "text/plain": [
       "            Status (%)\n",
       "Shipped          92.70\n",
       "Cancelled         2.13\n",
       "Resolved          1.66\n",
       "On Hold           1.56\n",
       "In Process        1.45\n",
       "Disputed          0.50"
      ]
     },
     "execution_count": 9,
     "metadata": {},
     "output_type": "execute_result"
    }
   ],
   "source": [
    "df['STATUS'].value_counts(normalize=True).to_frame('Status (%)').round(4)*100"
   ]
  },
  {
   "cell_type": "code",
   "execution_count": 27,
   "metadata": {},
   "outputs": [
    {
     "data": {
      "image/png": "[encoded data removed]",
      "text/plain": [
       "<Figure size 1152x576 with 1 Axes>"
      ]
     },
     "metadata": {
      "needs_background": "dark"
     },
     "output_type": "display_data"
    }
   ],
   "source": [
    "plt.figure(figsize=(16,8))\n",
    "\n",
    "ax = sns.countplot(data=df, x='STATUS')\n",
    "\n",
    "ax.set_title(\"Distribution of Order Status\", color='w')\n",
    "for p in ax.patches:\n",
    "   ax.annotate('{0:,.0f}'.format(p.get_height()), (p.get_x()+0.35, p.get_height()+1), color='black')\n",
    "\n",
    "plt.xticks(color='w')\n",
    "plt.yticks(color='w')\n",
    "plt.xlabel('Status', color='w')\n",
    "plt.ylabel('Count', color='w')\n",
    "plt.show()"
   ]
  },
  {
   "cell_type": "markdown",
   "metadata": {},
   "source": [
    "          Find month with highest sales in each individual year"
   ]
  },
  {
   "cell_type": "markdown",
   "metadata": {},
   "source": [
    "Firstly want to change the month_id column from numbers to the month names."
   ]
  },
  {
   "cell_type": "code",
   "execution_count": 11,
   "metadata": {},
   "outputs": [],
   "source": [
    "df['MONTH_ID'] = df['MONTH_ID'].replace({\n",
    "    1:'Jan',\n",
    "    2:'Feb',\n",
    "    3:'Mar',\n",
    "    4:'Apr',\n",
    "    5:'May',\n",
    "    6:'Jun',\n",
    "    7:'Jul',\n",
    "    8:'Aug',\n",
    "    9:'Sept',\n",
    "    10:'Oct',\n",
    "    11:'Nov',\n",
    "    12:'Dec'\n",
    "})"
   ]
  },
  {
   "cell_type": "code",
   "execution_count": 12,
   "metadata": {},
   "outputs": [],
   "source": [
    "months = [\"Jan\", \"Feb\", \"Mar\", \"Apr\", \"May\", \"Jun\", \n",
    "          \"Jul\", \"Aug\", \"Sept\", \"Oct\", \"Nov\", \"Dec\"]\n",
    "df['MONTH_ID'] = pd.Categorical(df['MONTH_ID'], categories=months, ordered=True)"
   ]
  },
  {
   "cell_type": "code",
   "execution_count": 13,
   "metadata": {},
   "outputs": [],
   "source": [
    "df2003 = df[df['YEAR_ID'] == 2003]\n",
    "df2004 = df[df['YEAR_ID'] == 2004]\n",
    "df2005 = df[df['YEAR_ID'] == 2005]"
   ]
  },
  {
   "cell_type": "code",
   "execution_count": 14,
   "metadata": {},
   "outputs": [
    {
     "data": {
      "text/html": [
       "<style type=\"text/css\">\n",
       "</style>\n",
       "<table id=\"T_e4ebd\">\n",
       "  <thead>\n",
       "    <tr>\n",
       "      <th class=\"blank\" >&nbsp;</th>\n",
       "      <th class=\"blank level0\" >&nbsp;</th>\n",
       "      <th id=\"T_e4ebd_level0_col0\" class=\"col_heading level0 col0\" >SALES</th>\n",
       "    </tr>\n",
       "    <tr>\n",
       "      <th class=\"index_name level0\" >YEAR_ID</th>\n",
       "      <th class=\"index_name level1\" >MONTH_ID</th>\n",
       "      <th class=\"blank col0\" >&nbsp;</th>\n",
       "    </tr>\n",
       "  </thead>\n",
       "  <tbody>\n",
       "    <tr>\n",
       "      <th id=\"T_e4ebd_level0_row0\" class=\"row_heading level0 row0\" rowspan=\"12\">2003</th>\n",
       "      <th id=\"T_e4ebd_level1_row0\" class=\"row_heading level1 row0\" >Nov</th>\n",
       "      <td id=\"T_e4ebd_row0_col0\" class=\"data row0 col0\" >$1,029,837.66</td>\n",
       "    </tr>\n",
       "    <tr>\n",
       "      <th id=\"T_e4ebd_level1_row1\" class=\"row_heading level1 row1\" >Oct</th>\n",
       "      <td id=\"T_e4ebd_row1_col0\" class=\"data row1 col0\" >$568,290.97</td>\n",
       "    </tr>\n",
       "    <tr>\n",
       "      <th id=\"T_e4ebd_level1_row2\" class=\"row_heading level1 row2\" >Sept</th>\n",
       "      <td id=\"T_e4ebd_row2_col0\" class=\"data row2 col0\" >$263,973.36</td>\n",
       "    </tr>\n",
       "    <tr>\n",
       "      <th id=\"T_e4ebd_level1_row3\" class=\"row_heading level1 row3\" >Dec</th>\n",
       "      <td id=\"T_e4ebd_row3_col0\" class=\"data row3 col0\" >$261,876.46</td>\n",
       "    </tr>\n",
       "    <tr>\n",
       "      <th id=\"T_e4ebd_level1_row4\" class=\"row_heading level1 row4\" >Apr</th>\n",
       "      <td id=\"T_e4ebd_row4_col0\" class=\"data row4 col0\" >$201,609.55</td>\n",
       "    </tr>\n",
       "    <tr>\n",
       "      <th id=\"T_e4ebd_level1_row5\" class=\"row_heading level1 row5\" >Aug</th>\n",
       "      <td id=\"T_e4ebd_row5_col0\" class=\"data row5 col0\" >$197,809.30</td>\n",
       "    </tr>\n",
       "    <tr>\n",
       "      <th id=\"T_e4ebd_level1_row6\" class=\"row_heading level1 row6\" >May</th>\n",
       "      <td id=\"T_e4ebd_row6_col0\" class=\"data row6 col0\" >$192,673.11</td>\n",
       "    </tr>\n",
       "    <tr>\n",
       "      <th id=\"T_e4ebd_level1_row7\" class=\"row_heading level1 row7\" >Jul</th>\n",
       "      <td id=\"T_e4ebd_row7_col0\" class=\"data row7 col0\" >$187,731.88</td>\n",
       "    </tr>\n",
       "    <tr>\n",
       "      <th id=\"T_e4ebd_level1_row8\" class=\"row_heading level1 row8\" >Mar</th>\n",
       "      <td id=\"T_e4ebd_row8_col0\" class=\"data row8 col0\" >$174,504.90</td>\n",
       "    </tr>\n",
       "    <tr>\n",
       "      <th id=\"T_e4ebd_level1_row9\" class=\"row_heading level1 row9\" >Jun</th>\n",
       "      <td id=\"T_e4ebd_row9_col0\" class=\"data row9 col0\" >$168,082.56</td>\n",
       "    </tr>\n",
       "    <tr>\n",
       "      <th id=\"T_e4ebd_level1_row10\" class=\"row_heading level1 row10\" >Feb</th>\n",
       "      <td id=\"T_e4ebd_row10_col0\" class=\"data row10 col0\" >$140,836.19</td>\n",
       "    </tr>\n",
       "    <tr>\n",
       "      <th id=\"T_e4ebd_level1_row11\" class=\"row_heading level1 row11\" >Jan</th>\n",
       "      <td id=\"T_e4ebd_row11_col0\" class=\"data row11 col0\" >$129,753.60</td>\n",
       "    </tr>\n",
       "  </tbody>\n",
       "</table>\n"
      ],
      "text/plain": [
       "<pandas.io.formats.style.Styler at 0x202ff293220>"
      ]
     },
     "execution_count": 14,
     "metadata": {},
     "output_type": "execute_result"
    }
   ],
   "source": [
    "sales2003 = df2003[['YEAR_ID','MONTH_ID','SALES']].groupby(['YEAR_ID','MONTH_ID']).sum().sort_values(by='SALES', ascending=False).style.format('${0:,.2f}')\n",
    "sales2003"
   ]
  },
  {
   "cell_type": "code",
   "execution_count": 15,
   "metadata": {},
   "outputs": [
    {
     "data": {
      "text/html": [
       "<style type=\"text/css\">\n",
       "</style>\n",
       "<table id=\"T_3f20a\">\n",
       "  <thead>\n",
       "    <tr>\n",
       "      <th class=\"blank\" >&nbsp;</th>\n",
       "      <th class=\"blank level0\" >&nbsp;</th>\n",
       "      <th id=\"T_3f20a_level0_col0\" class=\"col_heading level0 col0\" >SALES</th>\n",
       "    </tr>\n",
       "    <tr>\n",
       "      <th class=\"index_name level0\" >YEAR_ID</th>\n",
       "      <th class=\"index_name level1\" >MONTH_ID</th>\n",
       "      <th class=\"blank col0\" >&nbsp;</th>\n",
       "    </tr>\n",
       "  </thead>\n",
       "  <tbody>\n",
       "    <tr>\n",
       "      <th id=\"T_3f20a_level0_row0\" class=\"row_heading level0 row0\" rowspan=\"12\">2004</th>\n",
       "      <th id=\"T_3f20a_level1_row0\" class=\"row_heading level1 row0\" >Nov</th>\n",
       "      <td id=\"T_3f20a_row0_col0\" class=\"data row0 col0\" >$1,089,048.01</td>\n",
       "    </tr>\n",
       "    <tr>\n",
       "      <th id=\"T_3f20a_level1_row1\" class=\"row_heading level1 row1\" >Oct</th>\n",
       "      <td id=\"T_3f20a_row1_col0\" class=\"data row1 col0\" >$552,924.25</td>\n",
       "    </tr>\n",
       "    <tr>\n",
       "      <th id=\"T_3f20a_level1_row2\" class=\"row_heading level1 row2\" >Aug</th>\n",
       "      <td id=\"T_3f20a_row2_col0\" class=\"data row2 col0\" >$461,501.27</td>\n",
       "    </tr>\n",
       "    <tr>\n",
       "      <th id=\"T_3f20a_level1_row3\" class=\"row_heading level1 row3\" >Dec</th>\n",
       "      <td id=\"T_3f20a_row3_col0\" class=\"data row3 col0\" >$372,802.66</td>\n",
       "    </tr>\n",
       "    <tr>\n",
       "      <th id=\"T_3f20a_level1_row4\" class=\"row_heading level1 row4\" >Jul</th>\n",
       "      <td id=\"T_3f20a_row4_col0\" class=\"data row4 col0\" >$327,144.09</td>\n",
       "    </tr>\n",
       "    <tr>\n",
       "      <th id=\"T_3f20a_level1_row5\" class=\"row_heading level1 row5\" >Sept</th>\n",
       "      <td id=\"T_3f20a_row5_col0\" class=\"data row5 col0\" >$320,750.91</td>\n",
       "    </tr>\n",
       "    <tr>\n",
       "      <th id=\"T_3f20a_level1_row6\" class=\"row_heading level1 row6\" >Jan</th>\n",
       "      <td id=\"T_3f20a_row6_col0\" class=\"data row6 col0\" >$316,577.42</td>\n",
       "    </tr>\n",
       "    <tr>\n",
       "      <th id=\"T_3f20a_level1_row7\" class=\"row_heading level1 row7\" >Feb</th>\n",
       "      <td id=\"T_3f20a_row7_col0\" class=\"data row7 col0\" >$311,419.53</td>\n",
       "    </tr>\n",
       "    <tr>\n",
       "      <th id=\"T_3f20a_level1_row8\" class=\"row_heading level1 row8\" >Jun</th>\n",
       "      <td id=\"T_3f20a_row8_col0\" class=\"data row8 col0\" >$286,674.22</td>\n",
       "    </tr>\n",
       "    <tr>\n",
       "      <th id=\"T_3f20a_level1_row9\" class=\"row_heading level1 row9\" >May</th>\n",
       "      <td id=\"T_3f20a_row9_col0\" class=\"data row9 col0\" >$273,438.39</td>\n",
       "    </tr>\n",
       "    <tr>\n",
       "      <th id=\"T_3f20a_level1_row10\" class=\"row_heading level1 row10\" >Apr</th>\n",
       "      <td id=\"T_3f20a_row10_col0\" class=\"data row10 col0\" >$206,148.12</td>\n",
       "    </tr>\n",
       "    <tr>\n",
       "      <th id=\"T_3f20a_level1_row11\" class=\"row_heading level1 row11\" >Mar</th>\n",
       "      <td id=\"T_3f20a_row11_col0\" class=\"data row11 col0\" >$205,733.73</td>\n",
       "    </tr>\n",
       "  </tbody>\n",
       "</table>\n"
      ],
      "text/plain": [
       "<pandas.io.formats.style.Styler at 0x202dddca5b0>"
      ]
     },
     "execution_count": 15,
     "metadata": {},
     "output_type": "execute_result"
    }
   ],
   "source": [
    "sales2004 = df2004[['YEAR_ID','MONTH_ID','SALES']].groupby(['YEAR_ID','MONTH_ID']).sum().sort_values(by='SALES', ascending=False).style.format('${0:,.2f}')\n",
    "sales2004"
   ]
  },
  {
   "cell_type": "code",
   "execution_count": 16,
   "metadata": {},
   "outputs": [
    {
     "data": {
      "text/html": [
       "<style type=\"text/css\">\n",
       "</style>\n",
       "<table id=\"T_2d370\">\n",
       "  <thead>\n",
       "    <tr>\n",
       "      <th class=\"blank\" >&nbsp;</th>\n",
       "      <th class=\"blank level0\" >&nbsp;</th>\n",
       "      <th id=\"T_2d370_level0_col0\" class=\"col_heading level0 col0\" >SALES</th>\n",
       "    </tr>\n",
       "    <tr>\n",
       "      <th class=\"index_name level0\" >YEAR_ID</th>\n",
       "      <th class=\"index_name level1\" >MONTH_ID</th>\n",
       "      <th class=\"blank col0\" >&nbsp;</th>\n",
       "    </tr>\n",
       "  </thead>\n",
       "  <tbody>\n",
       "    <tr>\n",
       "      <th id=\"T_2d370_level0_row0\" class=\"row_heading level0 row0\" rowspan=\"12\">2005</th>\n",
       "      <th id=\"T_2d370_level1_row0\" class=\"row_heading level1 row0\" >May</th>\n",
       "      <td id=\"T_2d370_row0_col0\" class=\"data row0 col0\" >$457,861.06</td>\n",
       "    </tr>\n",
       "    <tr>\n",
       "      <th id=\"T_2d370_level1_row1\" class=\"row_heading level1 row1\" >Mar</th>\n",
       "      <td id=\"T_2d370_row1_col0\" class=\"data row1 col0\" >$374,262.76</td>\n",
       "    </tr>\n",
       "    <tr>\n",
       "      <th id=\"T_2d370_level1_row2\" class=\"row_heading level1 row2\" >Feb</th>\n",
       "      <td id=\"T_2d370_row2_col0\" class=\"data row2 col0\" >$358,186.18</td>\n",
       "    </tr>\n",
       "    <tr>\n",
       "      <th id=\"T_2d370_level1_row3\" class=\"row_heading level1 row3\" >Jan</th>\n",
       "      <td id=\"T_2d370_row3_col0\" class=\"data row3 col0\" >$339,543.42</td>\n",
       "    </tr>\n",
       "    <tr>\n",
       "      <th id=\"T_2d370_level1_row4\" class=\"row_heading level1 row4\" >Apr</th>\n",
       "      <td id=\"T_2d370_row4_col0\" class=\"data row4 col0\" >$261,633.29</td>\n",
       "    </tr>\n",
       "    <tr>\n",
       "      <th id=\"T_2d370_level1_row5\" class=\"row_heading level1 row5\" >Jun</th>\n",
       "      <td id=\"T_2d370_row5_col0\" class=\"data row5 col0\" >$0.00</td>\n",
       "    </tr>\n",
       "    <tr>\n",
       "      <th id=\"T_2d370_level1_row6\" class=\"row_heading level1 row6\" >Jul</th>\n",
       "      <td id=\"T_2d370_row6_col0\" class=\"data row6 col0\" >$0.00</td>\n",
       "    </tr>\n",
       "    <tr>\n",
       "      <th id=\"T_2d370_level1_row7\" class=\"row_heading level1 row7\" >Aug</th>\n",
       "      <td id=\"T_2d370_row7_col0\" class=\"data row7 col0\" >$0.00</td>\n",
       "    </tr>\n",
       "    <tr>\n",
       "      <th id=\"T_2d370_level1_row8\" class=\"row_heading level1 row8\" >Sept</th>\n",
       "      <td id=\"T_2d370_row8_col0\" class=\"data row8 col0\" >$0.00</td>\n",
       "    </tr>\n",
       "    <tr>\n",
       "      <th id=\"T_2d370_level1_row9\" class=\"row_heading level1 row9\" >Oct</th>\n",
       "      <td id=\"T_2d370_row9_col0\" class=\"data row9 col0\" >$0.00</td>\n",
       "    </tr>\n",
       "    <tr>\n",
       "      <th id=\"T_2d370_level1_row10\" class=\"row_heading level1 row10\" >Nov</th>\n",
       "      <td id=\"T_2d370_row10_col0\" class=\"data row10 col0\" >$0.00</td>\n",
       "    </tr>\n",
       "    <tr>\n",
       "      <th id=\"T_2d370_level1_row11\" class=\"row_heading level1 row11\" >Dec</th>\n",
       "      <td id=\"T_2d370_row11_col0\" class=\"data row11 col0\" >$0.00</td>\n",
       "    </tr>\n",
       "  </tbody>\n",
       "</table>\n"
      ],
      "text/plain": [
       "<pandas.io.formats.style.Styler at 0x202ff34a940>"
      ]
     },
     "execution_count": 16,
     "metadata": {},
     "output_type": "execute_result"
    }
   ],
   "source": [
    "sales2005 = df2005[['YEAR_ID','MONTH_ID','SALES']].groupby(['YEAR_ID','MONTH_ID']).sum().sort_values(by='SALES', ascending=False).style.format('${0:,.2f}')\n",
    "sales2005"
   ]
  },
  {
   "cell_type": "markdown",
   "metadata": {},
   "source": [
    "As shown from tables above, the months with the highest revenue for each year are:\n",
    "\n",
    "- 2003 = November ($1,029,837.66)\n",
    "- 2004 = November ($1,089,048.01)\n",
    "- 2005 = May ($457,861.06)**\n",
    "\n",
    "** Don't have data for full calender year"
   ]
  },
  {
   "cell_type": "markdown",
   "metadata": {},
   "source": [
    "         Distribution of orders by country"
   ]
  },
  {
   "cell_type": "code",
   "execution_count": 17,
   "metadata": {},
   "outputs": [
    {
     "data": {
      "text/html": [
       "<div>\n",
       "<style scoped>\n",
       "    .dataframe tbody tr th:only-of-type {\n",
       "        vertical-align: middle;\n",
       "    }\n",
       "\n",
       "    .dataframe tbody tr th {\n",
       "        vertical-align: top;\n",
       "    }\n",
       "\n",
       "    .dataframe thead th {\n",
       "        text-align: right;\n",
       "    }\n",
       "</style>\n",
       "<table border=\"1\" class=\"dataframe\">\n",
       "  <thead>\n",
       "    <tr style=\"text-align: right;\">\n",
       "      <th></th>\n",
       "      <th>COUNTRY</th>\n",
       "      <th>ORDERNUMBER</th>\n",
       "    </tr>\n",
       "  </thead>\n",
       "  <tbody>\n",
       "    <tr>\n",
       "      <th>1</th>\n",
       "      <td>USA</td>\n",
       "      <td>1004</td>\n",
       "    </tr>\n",
       "    <tr>\n",
       "      <th>2</th>\n",
       "      <td>Spain</td>\n",
       "      <td>342</td>\n",
       "    </tr>\n",
       "    <tr>\n",
       "      <th>3</th>\n",
       "      <td>France</td>\n",
       "      <td>314</td>\n",
       "    </tr>\n",
       "    <tr>\n",
       "      <th>4</th>\n",
       "      <td>Australia</td>\n",
       "      <td>185</td>\n",
       "    </tr>\n",
       "    <tr>\n",
       "      <th>5</th>\n",
       "      <td>UK</td>\n",
       "      <td>144</td>\n",
       "    </tr>\n",
       "    <tr>\n",
       "      <th>6</th>\n",
       "      <td>Italy</td>\n",
       "      <td>113</td>\n",
       "    </tr>\n",
       "    <tr>\n",
       "      <th>7</th>\n",
       "      <td>Finland</td>\n",
       "      <td>92</td>\n",
       "    </tr>\n",
       "    <tr>\n",
       "      <th>8</th>\n",
       "      <td>Norway</td>\n",
       "      <td>85</td>\n",
       "    </tr>\n",
       "    <tr>\n",
       "      <th>9</th>\n",
       "      <td>Singapore</td>\n",
       "      <td>79</td>\n",
       "    </tr>\n",
       "    <tr>\n",
       "      <th>10</th>\n",
       "      <td>Canada</td>\n",
       "      <td>70</td>\n",
       "    </tr>\n",
       "    <tr>\n",
       "      <th>11</th>\n",
       "      <td>Denmark</td>\n",
       "      <td>63</td>\n",
       "    </tr>\n",
       "    <tr>\n",
       "      <th>12</th>\n",
       "      <td>Germany</td>\n",
       "      <td>62</td>\n",
       "    </tr>\n",
       "    <tr>\n",
       "      <th>13</th>\n",
       "      <td>Sweden</td>\n",
       "      <td>57</td>\n",
       "    </tr>\n",
       "    <tr>\n",
       "      <th>14</th>\n",
       "      <td>Austria</td>\n",
       "      <td>55</td>\n",
       "    </tr>\n",
       "    <tr>\n",
       "      <th>15</th>\n",
       "      <td>Japan</td>\n",
       "      <td>52</td>\n",
       "    </tr>\n",
       "    <tr>\n",
       "      <th>16</th>\n",
       "      <td>Belgium</td>\n",
       "      <td>33</td>\n",
       "    </tr>\n",
       "    <tr>\n",
       "      <th>17</th>\n",
       "      <td>Switzerland</td>\n",
       "      <td>31</td>\n",
       "    </tr>\n",
       "    <tr>\n",
       "      <th>18</th>\n",
       "      <td>Philippines</td>\n",
       "      <td>26</td>\n",
       "    </tr>\n",
       "    <tr>\n",
       "      <th>19</th>\n",
       "      <td>Ireland</td>\n",
       "      <td>16</td>\n",
       "    </tr>\n",
       "  </tbody>\n",
       "</table>\n",
       "</div>"
      ],
      "text/plain": [
       "        COUNTRY  ORDERNUMBER\n",
       "1           USA         1004\n",
       "2         Spain          342\n",
       "3        France          314\n",
       "4     Australia          185\n",
       "5            UK          144\n",
       "6         Italy          113\n",
       "7       Finland           92\n",
       "8        Norway           85\n",
       "9     Singapore           79\n",
       "10       Canada           70\n",
       "11      Denmark           63\n",
       "12      Germany           62\n",
       "13       Sweden           57\n",
       "14      Austria           55\n",
       "15        Japan           52\n",
       "16      Belgium           33\n",
       "17  Switzerland           31\n",
       "18  Philippines           26\n",
       "19      Ireland           16"
      ]
     },
     "execution_count": 17,
     "metadata": {},
     "output_type": "execute_result"
    }
   ],
   "source": [
    "country_order_count = df[['COUNTRY', 'ORDERNUMBER']].groupby(['COUNTRY']).count().sort_values(by='ORDERNUMBER', ascending=False).reset_index()\n",
    "\n",
    "country_order_count.index = np.arange(1,len(country_order_count)+1)\n",
    "\n",
    "country_order_count\n"
   ]
  },
  {
   "cell_type": "code",
   "execution_count": 18,
   "metadata": {},
   "outputs": [
    {
     "data": {
      "text/html": [
       "<div>\n",
       "<style scoped>\n",
       "    .dataframe tbody tr th:only-of-type {\n",
       "        vertical-align: middle;\n",
       "    }\n",
       "\n",
       "    .dataframe tbody tr th {\n",
       "        vertical-align: top;\n",
       "    }\n",
       "\n",
       "    .dataframe thead th {\n",
       "        text-align: right;\n",
       "    }\n",
       "</style>\n",
       "<table border=\"1\" class=\"dataframe\">\n",
       "  <thead>\n",
       "    <tr style=\"text-align: right;\">\n",
       "      <th></th>\n",
       "      <th>Percentage of Total Orders (%)</th>\n",
       "    </tr>\n",
       "  </thead>\n",
       "  <tbody>\n",
       "    <tr>\n",
       "      <th>USA</th>\n",
       "      <td>35.57</td>\n",
       "    </tr>\n",
       "    <tr>\n",
       "      <th>Spain</th>\n",
       "      <td>12.11</td>\n",
       "    </tr>\n",
       "    <tr>\n",
       "      <th>France</th>\n",
       "      <td>11.12</td>\n",
       "    </tr>\n",
       "    <tr>\n",
       "      <th>Australia</th>\n",
       "      <td>6.55</td>\n",
       "    </tr>\n",
       "    <tr>\n",
       "      <th>UK</th>\n",
       "      <td>5.10</td>\n",
       "    </tr>\n",
       "    <tr>\n",
       "      <th>Italy</th>\n",
       "      <td>4.00</td>\n",
       "    </tr>\n",
       "    <tr>\n",
       "      <th>Finland</th>\n",
       "      <td>3.26</td>\n",
       "    </tr>\n",
       "    <tr>\n",
       "      <th>Norway</th>\n",
       "      <td>3.01</td>\n",
       "    </tr>\n",
       "    <tr>\n",
       "      <th>Singapore</th>\n",
       "      <td>2.80</td>\n",
       "    </tr>\n",
       "    <tr>\n",
       "      <th>Canada</th>\n",
       "      <td>2.48</td>\n",
       "    </tr>\n",
       "    <tr>\n",
       "      <th>Denmark</th>\n",
       "      <td>2.23</td>\n",
       "    </tr>\n",
       "    <tr>\n",
       "      <th>Germany</th>\n",
       "      <td>2.20</td>\n",
       "    </tr>\n",
       "    <tr>\n",
       "      <th>Sweden</th>\n",
       "      <td>2.02</td>\n",
       "    </tr>\n",
       "    <tr>\n",
       "      <th>Austria</th>\n",
       "      <td>1.95</td>\n",
       "    </tr>\n",
       "    <tr>\n",
       "      <th>Japan</th>\n",
       "      <td>1.84</td>\n",
       "    </tr>\n",
       "    <tr>\n",
       "      <th>Belgium</th>\n",
       "      <td>1.17</td>\n",
       "    </tr>\n",
       "    <tr>\n",
       "      <th>Switzerland</th>\n",
       "      <td>1.10</td>\n",
       "    </tr>\n",
       "    <tr>\n",
       "      <th>Philippines</th>\n",
       "      <td>0.92</td>\n",
       "    </tr>\n",
       "    <tr>\n",
       "      <th>Ireland</th>\n",
       "      <td>0.57</td>\n",
       "    </tr>\n",
       "  </tbody>\n",
       "</table>\n",
       "</div>"
      ],
      "text/plain": [
       "             Percentage of Total Orders (%)\n",
       "USA                                   35.57\n",
       "Spain                                 12.11\n",
       "France                                11.12\n",
       "Australia                              6.55\n",
       "UK                                     5.10\n",
       "Italy                                  4.00\n",
       "Finland                                3.26\n",
       "Norway                                 3.01\n",
       "Singapore                              2.80\n",
       "Canada                                 2.48\n",
       "Denmark                                2.23\n",
       "Germany                                2.20\n",
       "Sweden                                 2.02\n",
       "Austria                                1.95\n",
       "Japan                                  1.84\n",
       "Belgium                                1.17\n",
       "Switzerland                            1.10\n",
       "Philippines                            0.92\n",
       "Ireland                                0.57"
      ]
     },
     "execution_count": 18,
     "metadata": {},
     "output_type": "execute_result"
    }
   ],
   "source": [
    "country_percentage_orders = df['COUNTRY'].value_counts(normalize=True).to_frame('Percentage of Total Orders (%)').round(4)*100\n",
    "\n",
    "country_percentage_orders"
   ]
  },
  {
   "cell_type": "code",
   "execution_count": 28,
   "metadata": {},
   "outputs": [
    {
     "data": {
      "image/png": "[encoded data removed]",
      "text/plain": [
       "<Figure size 2016x1008 with 1 Axes>"
      ]
     },
     "metadata": {},
     "output_type": "display_data"
    }
   ],
   "source": [
    "plt.figure(figsize=(28,14))\n",
    "\n",
    "df['COUNTRY'].value_counts(normalize=True).plot(kind='pie', autopct='%1.0f%%')\n",
    "\n",
    "plt.xticks(color='w')\n",
    "plt.title(\"Percentage of Total Orders from each country\", color='black')\n",
    "plt.show()"
   ]
  },
  {
   "cell_type": "markdown",
   "metadata": {},
   "source": [
    "       Analysis of Dealsize"
   ]
  },
  {
   "cell_type": "code",
   "execution_count": 20,
   "metadata": {},
   "outputs": [
    {
     "data": {
      "text/html": [
       "<div>\n",
       "<style scoped>\n",
       "    .dataframe tbody tr th:only-of-type {\n",
       "        vertical-align: middle;\n",
       "    }\n",
       "\n",
       "    .dataframe tbody tr th {\n",
       "        vertical-align: top;\n",
       "    }\n",
       "\n",
       "    .dataframe thead th {\n",
       "        text-align: right;\n",
       "    }\n",
       "</style>\n",
       "<table border=\"1\" class=\"dataframe\">\n",
       "  <thead>\n",
       "    <tr style=\"text-align: right;\">\n",
       "      <th></th>\n",
       "      <th>Percentage of Orders (%)</th>\n",
       "    </tr>\n",
       "  </thead>\n",
       "  <tbody>\n",
       "    <tr>\n",
       "      <th>Medium</th>\n",
       "      <td>49.03</td>\n",
       "    </tr>\n",
       "    <tr>\n",
       "      <th>Small</th>\n",
       "      <td>45.41</td>\n",
       "    </tr>\n",
       "    <tr>\n",
       "      <th>Large</th>\n",
       "      <td>5.56</td>\n",
       "    </tr>\n",
       "  </tbody>\n",
       "</table>\n",
       "</div>"
      ],
      "text/plain": [
       "        Percentage of Orders (%)\n",
       "Medium                     49.03\n",
       "Small                      45.41\n",
       "Large                       5.56"
      ]
     },
     "execution_count": 20,
     "metadata": {},
     "output_type": "execute_result"
    }
   ],
   "source": [
    "df['DEALSIZE'].value_counts(normalize=True).to_frame('Percentage of Orders (%)').round(4)*100"
   ]
  },
  {
   "cell_type": "code",
   "execution_count": 29,
   "metadata": {},
   "outputs": [
    {
     "data": {
      "image/png": "[encoded data removed]",
      "text/plain": [
       "<Figure size 1152x576 with 1 Axes>"
      ]
     },
     "metadata": {
      "needs_background": "dark"
     },
     "output_type": "display_data"
    }
   ],
   "source": [
    "plt.figure(figsize=(16,8))\n",
    "\n",
    "ax = sns.countplot(data=df, x=df['DEALSIZE'])\n",
    "for p in ax.patches:\n",
    "   ax.annotate('{0:,.0f}'.format(p.get_height()), (p.get_x()+0.35, p.get_height()+1), color='black')\n",
    "\n",
    "plt.xlabel(\"Dealsize\", color='w')\n",
    "plt.xticks(color='w')\n",
    "plt.yticks(color='w')\n",
    "\n",
    "plt.title(\"Sales count by dealsize\", color='w')\n",
    "plt.show()\n"
   ]
  },
  {
   "cell_type": "markdown",
   "metadata": {},
   "source": [
    "*Average revenue by dealsize:"
   ]
  },
  {
   "cell_type": "code",
   "execution_count": 22,
   "metadata": {},
   "outputs": [
    {
     "data": {
      "text/html": [
       "<style type=\"text/css\">\n",
       "</style>\n",
       "<table id=\"T_f3a87\">\n",
       "  <thead>\n",
       "    <tr>\n",
       "      <th class=\"blank level0\" >&nbsp;</th>\n",
       "      <th id=\"T_f3a87_level0_col0\" class=\"col_heading level0 col0\" >SALES</th>\n",
       "    </tr>\n",
       "    <tr>\n",
       "      <th class=\"index_name level0\" >DEALSIZE</th>\n",
       "      <th class=\"blank col0\" >&nbsp;</th>\n",
       "    </tr>\n",
       "  </thead>\n",
       "  <tbody>\n",
       "    <tr>\n",
       "      <th id=\"T_f3a87_level0_row0\" class=\"row_heading level0 row0\" >Medium</th>\n",
       "      <td id=\"T_f3a87_row0_col0\" class=\"data row0 col0\" >$6,087,432.24</td>\n",
       "    </tr>\n",
       "    <tr>\n",
       "      <th id=\"T_f3a87_level0_row1\" class=\"row_heading level0 row1\" >Small</th>\n",
       "      <td id=\"T_f3a87_row1_col0\" class=\"data row1 col0\" >$2,643,077.35</td>\n",
       "    </tr>\n",
       "    <tr>\n",
       "      <th id=\"T_f3a87_level0_row2\" class=\"row_heading level0 row2\" >Large</th>\n",
       "      <td id=\"T_f3a87_row2_col0\" class=\"data row2 col0\" >$1,302,119.26</td>\n",
       "    </tr>\n",
       "  </tbody>\n",
       "</table>\n"
      ],
      "text/plain": [
       "<pandas.io.formats.style.Styler at 0x202ff3998e0>"
      ]
     },
     "execution_count": 22,
     "metadata": {},
     "output_type": "execute_result"
    }
   ],
   "source": [
    "df[['DEALSIZE', 'SALES']].groupby(['DEALSIZE']).sum().sort_values(by='SALES', ascending=False).style.format('${0:,.2f}')"
   ]
  },
  {
   "cell_type": "code",
   "execution_count": 23,
   "metadata": {},
   "outputs": [
    {
     "data": {
      "text/plain": [
       "<Figure size 1152x576 with 0 Axes>"
      ]
     },
     "metadata": {},
     "output_type": "display_data"
    },
    {
     "data": {
      "image/png": "[encoded data removed]",
      "text/plain": [
       "<Figure size 432x288 with 1 Axes>"
      ]
     },
     "metadata": {
      "needs_background": "dark"
     },
     "output_type": "display_data"
    }
   ],
   "source": [
    "plt.figure(figsize=(16,8))\n",
    "\n",
    "ax = df[['DEALSIZE', 'SALES']].groupby(['DEALSIZE']).sum().plot(kind='bar')\n",
    "for p in ax.patches:\n",
    "   ax.annotate('${0:,.2f}'.format(p.get_height()), (p.get_x()-0.1, p.get_height()+1), color='black')\n",
    "ax.get_legend().remove()\n",
    "\n",
    "\n",
    "plt.xticks(color='w', rotation=45)\n",
    "plt.yticks(color='w')\n",
    "plt.ylim(0, 7000000)\n",
    "plt.xlabel(\"Dealsize\", color='w')\n",
    "plt.ylabel('Revenue', color='w')\n",
    "plt.title(\"Average revenue by Dealsize\", color='w')\n",
    "\n",
    "plt.grid()\n",
    "plt.show()"
   ]
  },
  {
   "cell_type": "markdown",
   "metadata": {},
   "source": [
    "- Medium sized deals has the highest sales count and brings in the most revenue."
   ]
  },
  {
   "cell_type": "code",
   "execution_count": 24,
   "metadata": {},
   "outputs": [
    {
     "data": {
      "text/html": [
       "<style type=\"text/css\">\n",
       "</style>\n",
       "<table id=\"T_f8c0d\">\n",
       "  <thead>\n",
       "    <tr>\n",
       "      <th class=\"blank level0\" >&nbsp;</th>\n",
       "      <th id=\"T_f8c0d_level0_col0\" class=\"col_heading level0 col0\" colspan=\"3\">PRICEEACH</th>\n",
       "    </tr>\n",
       "    <tr>\n",
       "      <th class=\"blank level1\" >&nbsp;</th>\n",
       "      <th id=\"T_f8c0d_level1_col0\" class=\"col_heading level1 col0\" >mean</th>\n",
       "      <th id=\"T_f8c0d_level1_col1\" class=\"col_heading level1 col1\" >min</th>\n",
       "      <th id=\"T_f8c0d_level1_col2\" class=\"col_heading level1 col2\" >max</th>\n",
       "    </tr>\n",
       "    <tr>\n",
       "      <th class=\"index_name level0\" >DEALSIZE</th>\n",
       "      <th class=\"blank col0\" >&nbsp;</th>\n",
       "      <th class=\"blank col1\" >&nbsp;</th>\n",
       "      <th class=\"blank col2\" >&nbsp;</th>\n",
       "    </tr>\n",
       "  </thead>\n",
       "  <tbody>\n",
       "    <tr>\n",
       "      <th id=\"T_f8c0d_level0_row0\" class=\"row_heading level0 row0\" >Large</th>\n",
       "      <td id=\"T_f8c0d_row0_col0\" class=\"data row0 col0\" >$99.80</td>\n",
       "      <td id=\"T_f8c0d_row0_col1\" class=\"data row0 col1\" >$88.75</td>\n",
       "      <td id=\"T_f8c0d_row0_col2\" class=\"data row0 col2\" >$100.00</td>\n",
       "    </tr>\n",
       "    <tr>\n",
       "      <th id=\"T_f8c0d_level0_row1\" class=\"row_heading level0 row1\" >Medium</th>\n",
       "      <td id=\"T_f8c0d_row1_col0\" class=\"data row1 col0\" >$95.36</td>\n",
       "      <td id=\"T_f8c0d_row1_col1\" class=\"data row1 col1\" >$55.72</td>\n",
       "      <td id=\"T_f8c0d_row1_col2\" class=\"data row1 col2\" >$100.00</td>\n",
       "    </tr>\n",
       "    <tr>\n",
       "      <th id=\"T_f8c0d_level0_row2\" class=\"row_heading level0 row2\" >Small</th>\n",
       "      <td id=\"T_f8c0d_row2_col0\" class=\"data row2 col0\" >$69.05</td>\n",
       "      <td id=\"T_f8c0d_row2_col1\" class=\"data row2 col1\" >$26.88</td>\n",
       "      <td id=\"T_f8c0d_row2_col2\" class=\"data row2 col2\" >$100.00</td>\n",
       "    </tr>\n",
       "  </tbody>\n",
       "</table>\n"
      ],
      "text/plain": [
       "<pandas.io.formats.style.Styler at 0x202ff981dc0>"
      ]
     },
     "execution_count": 24,
     "metadata": {},
     "output_type": "execute_result"
    }
   ],
   "source": [
    "df[['DEALSIZE', 'PRICEEACH']].groupby(['DEALSIZE']).agg(['mean', 'min', 'max']).style.format('${0:,.2f}')"
   ]
  },
  {
   "cell_type": "code",
   "execution_count": 25,
   "metadata": {},
   "outputs": [
    {
     "data": {
      "text/html": [
       "<div>\n",
       "<style scoped>\n",
       "    .dataframe tbody tr th:only-of-type {\n",
       "        vertical-align: middle;\n",
       "    }\n",
       "\n",
       "    .dataframe tbody tr th {\n",
       "        vertical-align: top;\n",
       "    }\n",
       "\n",
       "    .dataframe thead tr th {\n",
       "        text-align: left;\n",
       "    }\n",
       "\n",
       "    .dataframe thead tr:last-of-type th {\n",
       "        text-align: right;\n",
       "    }\n",
       "</style>\n",
       "<table border=\"1\" class=\"dataframe\">\n",
       "  <thead>\n",
       "    <tr>\n",
       "      <th></th>\n",
       "      <th colspan=\"3\" halign=\"left\">QUANTITYORDERED</th>\n",
       "    </tr>\n",
       "    <tr>\n",
       "      <th></th>\n",
       "      <th>mean</th>\n",
       "      <th>min</th>\n",
       "      <th>max</th>\n",
       "    </tr>\n",
       "    <tr>\n",
       "      <th>DEALSIZE</th>\n",
       "      <th></th>\n",
       "      <th></th>\n",
       "      <th></th>\n",
       "    </tr>\n",
       "  </thead>\n",
       "  <tbody>\n",
       "    <tr>\n",
       "      <th>Large</th>\n",
       "      <td>47.222930</td>\n",
       "      <td>29</td>\n",
       "      <td>97</td>\n",
       "    </tr>\n",
       "    <tr>\n",
       "      <th>Medium</th>\n",
       "      <td>37.947254</td>\n",
       "      <td>20</td>\n",
       "      <td>66</td>\n",
       "    </tr>\n",
       "    <tr>\n",
       "      <th>Small</th>\n",
       "      <td>30.525741</td>\n",
       "      <td>6</td>\n",
       "      <td>64</td>\n",
       "    </tr>\n",
       "  </tbody>\n",
       "</table>\n",
       "</div>"
      ],
      "text/plain": [
       "         QUANTITYORDERED        \n",
       "                    mean min max\n",
       "DEALSIZE                        \n",
       "Large          47.222930  29  97\n",
       "Medium         37.947254  20  66\n",
       "Small          30.525741   6  64"
      ]
     },
     "execution_count": 25,
     "metadata": {},
     "output_type": "execute_result"
    }
   ],
   "source": [
    "df[['DEALSIZE',\t'QUANTITYORDERED']].groupby('DEALSIZE').agg(['mean', 'min', 'max'])"
   ]
  },
  {
   "cell_type": "code",
   "execution_count": 26,
   "metadata": {},
   "outputs": [
    {
     "data": {
      "text/html": [
       "<style type=\"text/css\">\n",
       "</style>\n",
       "<table id=\"T_8cecc\">\n",
       "  <thead>\n",
       "    <tr>\n",
       "      <th class=\"blank level0\" >&nbsp;</th>\n",
       "      <th id=\"T_8cecc_level0_col0\" class=\"col_heading level0 col0\" colspan=\"3\">SALES</th>\n",
       "    </tr>\n",
       "    <tr>\n",
       "      <th class=\"blank level1\" >&nbsp;</th>\n",
       "      <th id=\"T_8cecc_level1_col0\" class=\"col_heading level1 col0\" >mean</th>\n",
       "      <th id=\"T_8cecc_level1_col1\" class=\"col_heading level1 col1\" >min</th>\n",
       "      <th id=\"T_8cecc_level1_col2\" class=\"col_heading level1 col2\" >max</th>\n",
       "    </tr>\n",
       "    <tr>\n",
       "      <th class=\"index_name level0\" >DEALSIZE</th>\n",
       "      <th class=\"blank col0\" >&nbsp;</th>\n",
       "      <th class=\"blank col1\" >&nbsp;</th>\n",
       "      <th class=\"blank col2\" >&nbsp;</th>\n",
       "    </tr>\n",
       "  </thead>\n",
       "  <tbody>\n",
       "    <tr>\n",
       "      <th id=\"T_8cecc_level0_row0\" class=\"row_heading level0 row0\" >Large</th>\n",
       "      <td id=\"T_8cecc_row0_col0\" class=\"data row0 col0\" >$8,293.75</td>\n",
       "      <td id=\"T_8cecc_row0_col1\" class=\"data row0 col1\" >$7,016.31</td>\n",
       "      <td id=\"T_8cecc_row0_col2\" class=\"data row0 col2\" >$14,082.80</td>\n",
       "    </tr>\n",
       "    <tr>\n",
       "      <th id=\"T_8cecc_level0_row1\" class=\"row_heading level0 row1\" >Medium</th>\n",
       "      <td id=\"T_8cecc_row1_col0\" class=\"data row1 col0\" >$4,398.43</td>\n",
       "      <td id=\"T_8cecc_row1_col1\" class=\"data row1 col1\" >$3,002.40</td>\n",
       "      <td id=\"T_8cecc_row1_col2\" class=\"data row1 col2\" >$6,996.42</td>\n",
       "    </tr>\n",
       "    <tr>\n",
       "      <th id=\"T_8cecc_level0_row2\" class=\"row_heading level0 row2\" >Small</th>\n",
       "      <td id=\"T_8cecc_row2_col0\" class=\"data row2 col0\" >$2,061.68</td>\n",
       "      <td id=\"T_8cecc_row2_col1\" class=\"data row2 col1\" >$482.13</td>\n",
       "      <td id=\"T_8cecc_row2_col2\" class=\"data row2 col2\" >$2,999.97</td>\n",
       "    </tr>\n",
       "  </tbody>\n",
       "</table>\n"
      ],
      "text/plain": [
       "<pandas.io.formats.style.Styler at 0x202ff9de370>"
      ]
     },
     "execution_count": 26,
     "metadata": {},
     "output_type": "execute_result"
    }
   ],
   "source": [
    "df[['DEALSIZE', 'SALES']].groupby('DEALSIZE').agg(['mean', 'min', 'max']).style.format('${0:,.2f}')"
   ]
  },
  {
   "cell_type": "markdown",
   "metadata": {},
   "source": [
    "From this analysis, we see that the criteria for categorising the dealsize is based on the revenue from the sale:\n",
    "\n",
    "- Small = Any sale up to $3,000.\n",
    "- Medium = $3,000 to $7,000\n",
    "- Large = Any sale above $7,000"
   ]
  }
 ],
 "metadata": {
  "kernelspec": {
   "display_name": "Python 3.9.13 64-bit (windows store)",
   "language": "python",
   "name": "python3"
  },
  "language_info": {
   "codemirror_mode": {
    "name": "ipython",
    "version": 3
   },
   "file_extension": ".py",
   "mimetype": "text/x-python",
   "name": "python",
   "nbconvert_exporter": "python",
   "pygments_lexer": "ipython3",
   "version": "3.9.13"
  },
  "orig_nbformat": 4,
  "vscode": {
   "interpreter": {
    "hash": "cb86c0f8e40fb2e8ed94ce38f6315e93f5f4e4c0b716d0bd7e2c96ac7a828058"
   }
  }
 },
 "nbformat": 4,
 "nbformat_minor": 2
}
